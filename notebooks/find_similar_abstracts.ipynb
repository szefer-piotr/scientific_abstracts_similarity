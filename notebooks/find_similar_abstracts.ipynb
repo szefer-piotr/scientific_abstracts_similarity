{
 "cells": [
  {
   "cell_type": "code",
   "execution_count": 1,
   "metadata": {},
   "outputs": [
    {
     "name": "stdout",
     "output_type": "stream",
     "text": [
      "Pinged your deployment. You successfully connected to MongoDB!\n"
     ]
    }
   ],
   "source": [
    "from pymongo.mongo_client import MongoClient\n",
    "from pymongo.server_api import ServerApi\n",
    "import os\n",
    "from dotenv import load_dotenv\n",
    "\n",
    "load_dotenv()\n",
    "MONGO_DB_URI = os.getenv('MONGO_DB_URI')\n",
    "\n",
    "# Create a new client and connect to the server\n",
    "myclient = MongoClient(MONGO_DB_URI, server_api=ServerApi('1'))\n",
    "\n",
    "# Send a ping to confirm a successful connection\n",
    "try:\n",
    "    myclient.admin.command('ping')\n",
    "    print(\"Pinged your deployment. You successfully connected to MongoDB!\")\n",
    "except Exception as e:\n",
    "    print(e)\n",
    "\n",
    "db = myclient.abstract_search\n",
    "collection = db.data"
   ]
  },
  {
   "cell_type": "code",
   "execution_count": 5,
   "metadata": {},
   "outputs": [],
   "source": [
    "import requests\n",
    "import os\n",
    "\n",
    "API_URL = os.getenv('API_URL')\n",
    "HF_TOKEN = os.getenv('HF_TOKEN')\n",
    "\n",
    "db = myclient.abstract_search\n",
    "collection = db.data\n",
    "\n",
    "# Create embeddings using HuggingFace all_miniLM-l6-v2\n",
    "def generate_embedding(text: str) -> list[float]:\n",
    "\n",
    "    # Ask HF model for embedding\n",
    "    response = requests.post(\n",
    "        API_URL,\n",
    "        headers={\"Authorization\": f\"Bearer {HF_TOKEN}\"},\n",
    "        json={\"inputs\": text}\n",
    "    )\n",
    "\n",
    "    if response.status_code != 200:\n",
    "        raise ValueError(f\"Request failed with status code {response.status_code}: {response.text}\")\n",
    "    \n",
    "    # Return the embedding\n",
    "    return response.json()\n"
   ]
  },
  {
   "cell_type": "code",
   "execution_count": 62,
   "metadata": {},
   "outputs": [],
   "source": [
    "from requests import Request\n",
    "from fastapi.responses import JSONResponse, PlainTextResponse\n",
    "\n",
    "def find_similar_abstracts(request) -> JSONResponse:\n",
    "    query = request.json()\n",
    "    print(f\"[INFO] Query is : {query}\")\n",
    "    # results = collection.aggregate([\n",
    "    #     {\"$vectorSearch\": {\n",
    "    #         \"queryVector\": generate_embedding(query['query']),\n",
    "    #         \"path\": \"abstract_embedding_hf\",\n",
    "    #         \"numCandidates\": 100,\n",
    "    #         \"limit\": 4,\n",
    "    #         \"index\": \"vector_index\",\n",
    "    #         }\n",
    "    #     }\n",
    "    # ])\n",
    "\n",
    "    # response_dict = {}\n",
    "    \n",
    "    # for doc in results:\n",
    "    #     id = doc[\"id\"]\n",
    "    #     authors= doc[\"authors\"]\n",
    "    #     title = doc[\"title\"]\n",
    "    #     abstract = doc[\"abstract\"]\n",
    "        \n",
    "    #     response_dict[id] = {\n",
    "    #         \"authors\": authors, \n",
    "    #         \"title\": title, \n",
    "    #         \"abstract\": abstract,\n",
    "    #         }\n",
    "    \n",
    "    # return JSONResponse(response_dict)"
   ]
  },
  {
   "cell_type": "code",
   "execution_count": null,
   "metadata": {},
   "outputs": [
    {
     "name": "stdout",
     "output_type": "stream",
     "text": [
      "Recieved status code 500\n"
     ]
    },
    {
     "ename": "JSONDecodeError",
     "evalue": "Expecting value: line 1 column 1 (char 0)",
     "output_type": "error",
     "traceback": [
      "\u001b[0;31m---------------------------------------------------------------------------\u001b[0m",
      "\u001b[0;31mJSONDecodeError\u001b[0m                           Traceback (most recent call last)",
      "File \u001b[0;32m~/projects/similarity_search/dev/lib/python3.10/site-packages/requests/models.py:974\u001b[0m, in \u001b[0;36mResponse.json\u001b[0;34m(self, **kwargs)\u001b[0m\n\u001b[1;32m    973\u001b[0m \u001b[38;5;28;01mtry\u001b[39;00m:\n\u001b[0;32m--> 974\u001b[0m     \u001b[38;5;28;01mreturn\u001b[39;00m \u001b[43mcomplexjson\u001b[49m\u001b[38;5;241;43m.\u001b[39;49m\u001b[43mloads\u001b[49m\u001b[43m(\u001b[49m\u001b[38;5;28;43mself\u001b[39;49m\u001b[38;5;241;43m.\u001b[39;49m\u001b[43mtext\u001b[49m\u001b[43m,\u001b[49m\u001b[43m \u001b[49m\u001b[38;5;241;43m*\u001b[39;49m\u001b[38;5;241;43m*\u001b[39;49m\u001b[43mkwargs\u001b[49m\u001b[43m)\u001b[49m\n\u001b[1;32m    975\u001b[0m \u001b[38;5;28;01mexcept\u001b[39;00m JSONDecodeError \u001b[38;5;28;01mas\u001b[39;00m e:\n\u001b[1;32m    976\u001b[0m     \u001b[38;5;66;03m# Catch JSON-related errors and raise as requests.JSONDecodeError\u001b[39;00m\n\u001b[1;32m    977\u001b[0m     \u001b[38;5;66;03m# This aliases json.JSONDecodeError and simplejson.JSONDecodeError\u001b[39;00m\n",
      "File \u001b[0;32m/usr/lib/python3.10/json/__init__.py:346\u001b[0m, in \u001b[0;36mloads\u001b[0;34m(s, cls, object_hook, parse_float, parse_int, parse_constant, object_pairs_hook, **kw)\u001b[0m\n\u001b[1;32m    343\u001b[0m \u001b[38;5;28;01mif\u001b[39;00m (\u001b[38;5;28mcls\u001b[39m \u001b[38;5;129;01mis\u001b[39;00m \u001b[38;5;28;01mNone\u001b[39;00m \u001b[38;5;129;01mand\u001b[39;00m object_hook \u001b[38;5;129;01mis\u001b[39;00m \u001b[38;5;28;01mNone\u001b[39;00m \u001b[38;5;129;01mand\u001b[39;00m\n\u001b[1;32m    344\u001b[0m         parse_int \u001b[38;5;129;01mis\u001b[39;00m \u001b[38;5;28;01mNone\u001b[39;00m \u001b[38;5;129;01mand\u001b[39;00m parse_float \u001b[38;5;129;01mis\u001b[39;00m \u001b[38;5;28;01mNone\u001b[39;00m \u001b[38;5;129;01mand\u001b[39;00m\n\u001b[1;32m    345\u001b[0m         parse_constant \u001b[38;5;129;01mis\u001b[39;00m \u001b[38;5;28;01mNone\u001b[39;00m \u001b[38;5;129;01mand\u001b[39;00m object_pairs_hook \u001b[38;5;129;01mis\u001b[39;00m \u001b[38;5;28;01mNone\u001b[39;00m \u001b[38;5;129;01mand\u001b[39;00m \u001b[38;5;129;01mnot\u001b[39;00m kw):\n\u001b[0;32m--> 346\u001b[0m     \u001b[38;5;28;01mreturn\u001b[39;00m \u001b[43m_default_decoder\u001b[49m\u001b[38;5;241;43m.\u001b[39;49m\u001b[43mdecode\u001b[49m\u001b[43m(\u001b[49m\u001b[43ms\u001b[49m\u001b[43m)\u001b[49m\n\u001b[1;32m    347\u001b[0m \u001b[38;5;28;01mif\u001b[39;00m \u001b[38;5;28mcls\u001b[39m \u001b[38;5;129;01mis\u001b[39;00m \u001b[38;5;28;01mNone\u001b[39;00m:\n",
      "File \u001b[0;32m/usr/lib/python3.10/json/decoder.py:337\u001b[0m, in \u001b[0;36mJSONDecoder.decode\u001b[0;34m(self, s, _w)\u001b[0m\n\u001b[1;32m    333\u001b[0m \u001b[38;5;250m\u001b[39m\u001b[38;5;124;03m\"\"\"Return the Python representation of ``s`` (a ``str`` instance\u001b[39;00m\n\u001b[1;32m    334\u001b[0m \u001b[38;5;124;03mcontaining a JSON document).\u001b[39;00m\n\u001b[1;32m    335\u001b[0m \n\u001b[1;32m    336\u001b[0m \u001b[38;5;124;03m\"\"\"\u001b[39;00m\n\u001b[0;32m--> 337\u001b[0m obj, end \u001b[38;5;241m=\u001b[39m \u001b[38;5;28;43mself\u001b[39;49m\u001b[38;5;241;43m.\u001b[39;49m\u001b[43mraw_decode\u001b[49m\u001b[43m(\u001b[49m\u001b[43ms\u001b[49m\u001b[43m,\u001b[49m\u001b[43m \u001b[49m\u001b[43midx\u001b[49m\u001b[38;5;241;43m=\u001b[39;49m\u001b[43m_w\u001b[49m\u001b[43m(\u001b[49m\u001b[43ms\u001b[49m\u001b[43m,\u001b[49m\u001b[43m \u001b[49m\u001b[38;5;241;43m0\u001b[39;49m\u001b[43m)\u001b[49m\u001b[38;5;241;43m.\u001b[39;49m\u001b[43mend\u001b[49m\u001b[43m(\u001b[49m\u001b[43m)\u001b[49m\u001b[43m)\u001b[49m\n\u001b[1;32m    338\u001b[0m end \u001b[38;5;241m=\u001b[39m _w(s, end)\u001b[38;5;241m.\u001b[39mend()\n",
      "File \u001b[0;32m/usr/lib/python3.10/json/decoder.py:355\u001b[0m, in \u001b[0;36mJSONDecoder.raw_decode\u001b[0;34m(self, s, idx)\u001b[0m\n\u001b[1;32m    354\u001b[0m \u001b[38;5;28;01mexcept\u001b[39;00m \u001b[38;5;167;01mStopIteration\u001b[39;00m \u001b[38;5;28;01mas\u001b[39;00m err:\n\u001b[0;32m--> 355\u001b[0m     \u001b[38;5;28;01mraise\u001b[39;00m JSONDecodeError(\u001b[38;5;124m\"\u001b[39m\u001b[38;5;124mExpecting value\u001b[39m\u001b[38;5;124m\"\u001b[39m, s, err\u001b[38;5;241m.\u001b[39mvalue) \u001b[38;5;28;01mfrom\u001b[39;00m \u001b[38;5;28;01mNone\u001b[39;00m\n\u001b[1;32m    356\u001b[0m \u001b[38;5;28;01mreturn\u001b[39;00m obj, end\n",
      "\u001b[0;31mJSONDecodeError\u001b[0m: Expecting value: line 1 column 1 (char 0)",
      "\nDuring handling of the above exception, another exception occurred:\n",
      "\u001b[0;31mJSONDecodeError\u001b[0m                           Traceback (most recent call last)",
      "Cell \u001b[0;32mIn[61], line 18\u001b[0m\n\u001b[1;32m     16\u001b[0m \u001b[38;5;66;03m# response = requests.post(url=url, headers=headers, json=query)\u001b[39;00m\n\u001b[1;32m     17\u001b[0m \u001b[38;5;28mprint\u001b[39m(\u001b[38;5;124mf\u001b[39m\u001b[38;5;124m\"\u001b[39m\u001b[38;5;124mRecieved status code \u001b[39m\u001b[38;5;132;01m{\u001b[39;00mresponse\u001b[38;5;241m.\u001b[39mstatus_code\u001b[38;5;132;01m}\u001b[39;00m\u001b[38;5;124m\"\u001b[39m)\n\u001b[0;32m---> 18\u001b[0m \u001b[38;5;28mprint\u001b[39m(\u001b[38;5;124mf\u001b[39m\u001b[38;5;124m\"\u001b[39m\u001b[38;5;124mRecieved \u001b[39m\u001b[38;5;132;01m{\u001b[39;00m\u001b[43mresponse\u001b[49m\u001b[38;5;241;43m.\u001b[39;49m\u001b[43mjson\u001b[49m\u001b[43m(\u001b[49m\u001b[43m)\u001b[49m\u001b[38;5;132;01m}\u001b[39;00m\u001b[38;5;124m\"\u001b[39m)\n",
      "File \u001b[0;32m~/projects/similarity_search/dev/lib/python3.10/site-packages/requests/models.py:978\u001b[0m, in \u001b[0;36mResponse.json\u001b[0;34m(self, **kwargs)\u001b[0m\n\u001b[1;32m    974\u001b[0m     \u001b[38;5;28;01mreturn\u001b[39;00m complexjson\u001b[38;5;241m.\u001b[39mloads(\u001b[38;5;28mself\u001b[39m\u001b[38;5;241m.\u001b[39mtext, \u001b[38;5;241m*\u001b[39m\u001b[38;5;241m*\u001b[39mkwargs)\n\u001b[1;32m    975\u001b[0m \u001b[38;5;28;01mexcept\u001b[39;00m JSONDecodeError \u001b[38;5;28;01mas\u001b[39;00m e:\n\u001b[1;32m    976\u001b[0m     \u001b[38;5;66;03m# Catch JSON-related errors and raise as requests.JSONDecodeError\u001b[39;00m\n\u001b[1;32m    977\u001b[0m     \u001b[38;5;66;03m# This aliases json.JSONDecodeError and simplejson.JSONDecodeError\u001b[39;00m\n\u001b[0;32m--> 978\u001b[0m     \u001b[38;5;28;01mraise\u001b[39;00m RequestsJSONDecodeError(e\u001b[38;5;241m.\u001b[39mmsg, e\u001b[38;5;241m.\u001b[39mdoc, e\u001b[38;5;241m.\u001b[39mpos)\n",
      "\u001b[0;31mJSONDecodeError\u001b[0m: Expecting value: line 1 column 1 (char 0)"
     ]
    }
   ],
   "source": [
    "import requests\n",
    "\n",
    "query = {\n",
    "    \"query\": \"Markov Chain Monte Carlo\",\n",
    "}\n",
    "\n",
    "\n",
    "# query = \"Markov Chain Monte Carlo\"\n",
    "\n",
    "headers = {\n",
    "    \"Content-Type\": \"application/json\",\n",
    "}\n",
    "\n",
    "# url = \"http://localhost:8080/find_similar_abstracts\"\n",
    "response = requests.post(url=url, json=query)\n",
    "# response = requests.post(url=url, headers=headers, json=query)\n",
    "print(f\"Recieved status code {response.status_code}\")\n",
    "print(f\"Recieved {response.json()}\")"
   ]
  },
  {
   "cell_type": "code",
   "execution_count": 46,
   "metadata": {},
   "outputs": [],
   "source": [
    "# Create an example request\n",
    "import requests\n",
    "\n",
    "data = {\n",
    "    \"query\": \"Markov Chain Monte Carlo\",\n",
    "}\n",
    "\n",
    "headers = {\n",
    "    \"Content-Type\": \"application/json\",\n",
    "}\n",
    "\n",
    "# url = \"http://localhost:8080/find_similar_abstracts\"\n",
    "# response = requests.post(url=url, headers=headers, json=data)\n",
    "# print(f\"Recieved status code {response.status_code}\")\n",
    "# print(f\"Recieved {response.json()}\")"
   ]
  },
  {
   "cell_type": "code",
   "execution_count": 47,
   "metadata": {},
   "outputs": [],
   "source": [
    "# Send the request to the function\n",
    "abstracts = find_similar_abstracts(data)"
   ]
  },
  {
   "cell_type": "code",
   "execution_count": 48,
   "metadata": {},
   "outputs": [
    {
     "data": {
      "text/plain": [
       "<starlette.responses.JSONResponse at 0x7f5f5062a620>"
      ]
     },
     "execution_count": 48,
     "metadata": {},
     "output_type": "execute_result"
    }
   ],
   "source": [
    "abstracts"
   ]
  },
  {
   "cell_type": "code",
   "execution_count": 41,
   "metadata": {},
   "outputs": [
    {
     "data": {
      "text/plain": [
       "{'0704.0048': {'authors': 'Alexander Stroeer, John Veitch, Christian Roever, Ed Bloomer, James\\n  Clark, Nelson Christensen, Martin Hendry, Chris Messenger, Renate Meyer,\\n  Matthew Pitkin, Jennifer Toher, Richard Umstaetter, Alberto Vecchio and\\n  Graham Woan',\n",
       "  'title': 'Inference on white dwarf binary systems using the first round Mock LISA\\n  Data Challenges data sets',\n",
       "  'abstract': '  We report on the analysis of selected single source data sets from the first\\nround of the Mock LISA Data Challenges (MLDC) for white dwarf binaries. We\\nimplemented an end-to-end pipeline consisting of a grid-based coherent\\npre-processing unit for signal detection, and an automatic Markov Chain Monte\\nCarlo post-processing unit for signal evaluation. We demonstrate that signal\\ndetection with our coherent approach is secure and accurate, and is increased\\nin accuracy and supplemented with additional information on the signal\\nparameters by our Markov Chain Monte Carlo approach. We also demonstrate that\\nthe Markov Chain Monte Carlo routine is additionally able to determine\\naccurately the noise level in the frequency window of interest.\\n'},\n",
       " '0704.0025': {'authors': \"A. S. Mishchenko (1 and 2) and N. Nagaosa (1 and 3) ((1) CREST, Japan\\n  Science and Technology Agency, (2) Russian Research Centre ``Kurchatov\\n  Institute'', (3) The University of Tokyo)\",\n",
       "  'title': 'Spectroscopic Properties of Polarons in Strongly Correlated Systems by\\n  Exact Diagrammatic Monte Carlo Method',\n",
       "  'abstract': '  We present recent advances in understanding of the ground and excited states\\nof the electron-phonon coupled systems obtained by novel methods of\\nDiagrammatic Monte Carlo and Stochastic Optimization, which enable the\\napproximation-free calculation of Matsubara Green function in imaginary times\\nand perform unbiased analytic continuation to real frequencies. We present\\nexact numeric results on the ground state properties, Lehmann spectral function\\nand optical conductivity of different strongly correlated systems: Frohlich\\npolaron, Rashba-Pekar exciton-polaron, pseudo Jahn-Teller polaron, exciton, and\\ninteracting with phonons hole in the t-J model.\\n'},\n",
       " '0704.0029': {'authors': 'Zhan Shu, Xiao-Lin Chen and Wei-Zhen Deng',\n",
       "  'title': 'Understanding the Flavor Symmetry Breaking and Nucleon Flavor-Spin\\n  Structure within Chiral Quark Model',\n",
       "  'abstract': '  In $\\\\XQM$, a quark can emit Goldstone bosons. The flavor symmetry breaking in\\nthe Goldstone boson emission process is used to intepret the nucleon\\nflavor-spin structure. In this paper, we study the inner structure of\\nconstituent quarks implied in $\\\\XQM$ caused by the Goldstone boson emission\\nprocess in nucleon. From a simplified model Hamiltonian derived from $\\\\XQM$,\\nthe intrinsic wave functions of constituent quarks are determined. Then the\\nobtained transition probabilities of the emission of Goldstone boson from a\\nquark can give a reasonable interpretation to the flavor symmetry breaking in\\nnucleon flavor-spin structure.\\n'},\n",
       " '0704.0019': {'authors': 'Norio Konno',\n",
       "  'title': 'Approximation for extinction probability of the contact process based on\\n  the Gr\\\\\"obner basis',\n",
       "  'abstract': '  In this note we give a new method for getting a series of approximations for\\nthe extinction probability of the one-dimensional contact process by using the\\nGr\\\\\"obner basis.\\n'}}"
      ]
     },
     "execution_count": 41,
     "metadata": {},
     "output_type": "execute_result"
    }
   ],
   "source": [
    "# response_dict = {}\n",
    "# for doc in abstracts:\n",
    "#     id = doc[\"id\"]\n",
    "#     authors= doc[\"authors\"]\n",
    "#     title = doc[\"title\"]\n",
    "#     abstract = doc[\"abstract\"]\n",
    "#     response_dict[id] = {\n",
    "#         \"authors\": authors, \n",
    "#         \"title\": title, \n",
    "#         \"abstract\": abstract,\n",
    "#         }\n",
    "\n",
    "# response_dict"
   ]
  },
  {
   "cell_type": "code",
   "execution_count": 43,
   "metadata": {},
   "outputs": [
    {
     "data": {
      "text/plain": [
       "{'0704.0048': {'authors': 'Alexander Stroeer, John Veitch, Christian Roever, Ed Bloomer, James\\n  Clark, Nelson Christensen, Martin Hendry, Chris Messenger, Renate Meyer,\\n  Matthew Pitkin, Jennifer Toher, Richard Umstaetter, Alberto Vecchio and\\n  Graham Woan',\n",
       "  'title': 'Inference on white dwarf binary systems using the first round Mock LISA\\n  Data Challenges data sets',\n",
       "  'abstract': '  We report on the analysis of selected single source data sets from the first\\nround of the Mock LISA Data Challenges (MLDC) for white dwarf binaries. We\\nimplemented an end-to-end pipeline consisting of a grid-based coherent\\npre-processing unit for signal detection, and an automatic Markov Chain Monte\\nCarlo post-processing unit for signal evaluation. We demonstrate that signal\\ndetection with our coherent approach is secure and accurate, and is increased\\nin accuracy and supplemented with additional information on the signal\\nparameters by our Markov Chain Monte Carlo approach. We also demonstrate that\\nthe Markov Chain Monte Carlo routine is additionally able to determine\\naccurately the noise level in the frequency window of interest.\\n'},\n",
       " '0704.0025': {'authors': \"A. S. Mishchenko (1 and 2) and N. Nagaosa (1 and 3) ((1) CREST, Japan\\n  Science and Technology Agency, (2) Russian Research Centre ``Kurchatov\\n  Institute'', (3) The University of Tokyo)\",\n",
       "  'title': 'Spectroscopic Properties of Polarons in Strongly Correlated Systems by\\n  Exact Diagrammatic Monte Carlo Method',\n",
       "  'abstract': '  We present recent advances in understanding of the ground and excited states\\nof the electron-phonon coupled systems obtained by novel methods of\\nDiagrammatic Monte Carlo and Stochastic Optimization, which enable the\\napproximation-free calculation of Matsubara Green function in imaginary times\\nand perform unbiased analytic continuation to real frequencies. We present\\nexact numeric results on the ground state properties, Lehmann spectral function\\nand optical conductivity of different strongly correlated systems: Frohlich\\npolaron, Rashba-Pekar exciton-polaron, pseudo Jahn-Teller polaron, exciton, and\\ninteracting with phonons hole in the t-J model.\\n'},\n",
       " '0704.0029': {'authors': 'Zhan Shu, Xiao-Lin Chen and Wei-Zhen Deng',\n",
       "  'title': 'Understanding the Flavor Symmetry Breaking and Nucleon Flavor-Spin\\n  Structure within Chiral Quark Model',\n",
       "  'abstract': '  In $\\\\XQM$, a quark can emit Goldstone bosons. The flavor symmetry breaking in\\nthe Goldstone boson emission process is used to intepret the nucleon\\nflavor-spin structure. In this paper, we study the inner structure of\\nconstituent quarks implied in $\\\\XQM$ caused by the Goldstone boson emission\\nprocess in nucleon. From a simplified model Hamiltonian derived from $\\\\XQM$,\\nthe intrinsic wave functions of constituent quarks are determined. Then the\\nobtained transition probabilities of the emission of Goldstone boson from a\\nquark can give a reasonable interpretation to the flavor symmetry breaking in\\nnucleon flavor-spin structure.\\n'},\n",
       " '0704.0019': {'authors': 'Norio Konno',\n",
       "  'title': 'Approximation for extinction probability of the contact process based on\\n  the Gr\\\\\"obner basis',\n",
       "  'abstract': '  In this note we give a new method for getting a series of approximations for\\nthe extinction probability of the one-dimensional contact process by using the\\nGr\\\\\"obner basis.\\n'}}"
      ]
     },
     "execution_count": 43,
     "metadata": {},
     "output_type": "execute_result"
    }
   ],
   "source": [
    "response_dict"
   ]
  },
  {
   "cell_type": "code",
   "execution_count": 44,
   "metadata": {},
   "outputs": [
    {
     "data": {
      "text/plain": [
       "<starlette.responses.JSONResponse at 0x7f5f50690850>"
      ]
     },
     "execution_count": 44,
     "metadata": {},
     "output_type": "execute_result"
    }
   ],
   "source": [
    "JSONResponse(response_dict)"
   ]
  }
 ],
 "metadata": {
  "kernelspec": {
   "display_name": "dev",
   "language": "python",
   "name": "python3"
  },
  "language_info": {
   "codemirror_mode": {
    "name": "ipython",
    "version": 3
   },
   "file_extension": ".py",
   "mimetype": "text/x-python",
   "name": "python",
   "nbconvert_exporter": "python",
   "pygments_lexer": "ipython3",
   "version": "3.10.12"
  }
 },
 "nbformat": 4,
 "nbformat_minor": 2
}
