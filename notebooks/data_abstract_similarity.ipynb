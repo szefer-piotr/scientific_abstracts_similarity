{
 "cells": [
  {
   "cell_type": "markdown",
   "metadata": {},
   "source": [
    "# Similar Abstract Search\n",
    "\n",
    "https://medium.com/@davidlfliang/intro-getting-started-with-text-embeddings-using-bert-9f8c3b98dee6\n",
    "\n",
    "FAISS\n",
    "\n",
    "https://medium.com/loopio-tech/how-to-use-faiss-to-build-your-first-similarity-search-bf0f708aa772"
   ]
  },
  {
   "cell_type": "code",
   "execution_count": null,
   "metadata": {},
   "outputs": [
    {
     "name": "stderr",
     "output_type": "stream",
     "text": [
      "/home/piotr/projects/articles_similarity/scientific_abstracts_similarity/dev/lib/python3.10/site-packages/tqdm/auto.py:21: TqdmWarning: IProgress not found. Please update jupyter and ipywidgets. See https://ipywidgets.readthedocs.io/en/stable/user_install.html\n",
      "  from .autonotebook import tqdm as notebook_tqdm\n"
     ]
    },
    {
     "name": "stdout",
     "output_type": "stream",
     "text": [
      "Downloading from https://www.kaggle.com/api/v1/datasets/download/Cornell-University/arxiv?dataset_version_number=208...\n"
     ]
    },
    {
     "name": "stderr",
     "output_type": "stream",
     "text": [
      "100%|██████████| 1.37G/1.37G [04:39<00:00, 5.25MB/s]"
     ]
    },
    {
     "name": "stdout",
     "output_type": "stream",
     "text": [
      "Extracting files...\n"
     ]
    },
    {
     "name": "stderr",
     "output_type": "stream",
     "text": [
      "\n"
     ]
    },
    {
     "name": "stdout",
     "output_type": "stream",
     "text": [
      "data/arxiv_dataset /root/.cache/kagglehub/datasets/Cornell-University/arxiv/versions/208\n"
     ]
    }
   ],
   "source": [
    "# Use kaggle API to download example data. arxiv apaper Abstracts and there is also arXive Dataset (4.5 GB)\n",
    "import kagglehub\n",
    "\n",
    "# Download latest version\n",
    "# path = kagglehub.dataset_download(\"Cornell-University/arxiv\")\n",
    "\n",
    "# print(\"data/arxiv_dataset\", path)"
   ]
  },
  {
   "cell_type": "code",
   "execution_count": null,
   "metadata": {},
   "outputs": [],
   "source": [
    "# !cp /root/.cache/kagglehub/datasets/Cornell-University/arxiv/versions/208/arxiv-metadata-oai-snapshot.json /home/piotr/projects/articles_similarity/scientific_abstracts_similarity/data/arxiv_papers"
   ]
  },
  {
   "cell_type": "markdown",
   "metadata": {},
   "source": [
    "## Preprocessing\n",
    "\n",
    "### Tokenization"
   ]
  },
  {
   "cell_type": "code",
   "execution_count": null,
   "metadata": {},
   "outputs": [],
   "source": []
  },
  {
   "cell_type": "code",
   "execution_count": null,
   "metadata": {},
   "outputs": [
    {
     "name": "stdout",
     "output_type": "stream",
     "text": [
      "Token IDs:  tensor([[  101,  1109,  3613,  3058, 17594, 15457,  1166,  1103, 16688,  3676,\n",
      "           119,   102]])\n",
      "Attention Mask:  tensor([[1, 1, 1, 1, 1, 1, 1, 1, 1, 1, 1, 1]])\n",
      "Token Type IDs: tensor([[0, 0, 0, 0, 0, 0, 0, 0, 0, 0, 0, 0]])\n",
      "Tokens: ['[CLS]', 'The', 'quick', 'brown', 'fox', 'jumps', 'over', 'the', 'lazy', 'dog', '.', '[SEP]']\n"
     ]
    }
   ],
   "source": [
    "# from transformers import BertTokenizer\n",
    "\n",
    "# bert_tokenizer = BertTokenizer.from_pretrained(MODEL_NAME)\n",
    "\n",
    "# text = \"The quick brown fox jumps over the lazy dog.\"\n",
    "\n",
    "# bert_inputs = bert_tokenizer(text, return_tensors='pt')\n",
    "\n",
    "# print('Token IDs: ', bert_inputs['input_ids'])\n",
    "\n",
    "# attention_mask = bert_inputs['attention_mask']\n",
    "# print('Attention Mask: ', attention_mask)\n",
    "\n",
    "# token_type_ids = bert_inputs['token_type_ids']\n",
    "# print('Token Type IDs:', token_type_ids)\n",
    "\n",
    "# tokens = bert_tokenizer.convert_ids_to_tokens(bert_inputs['input_ids'][0])\n",
    "# print('Tokens:', tokens)"
   ]
  },
  {
   "cell_type": "code",
   "execution_count": null,
   "metadata": {},
   "outputs": [
    {
     "data": {
      "text/plain": [
       "dict_keys(['input_ids', 'token_type_ids', 'attention_mask'])"
      ]
     },
     "execution_count": 16,
     "metadata": {},
     "output_type": "execute_result"
    }
   ],
   "source": [
    "# bert_inputs.keys()"
   ]
  },
  {
   "cell_type": "markdown",
   "metadata": {},
   "source": [
    "## Embedding Generation"
   ]
  },
  {
   "cell_type": "code",
   "execution_count": null,
   "metadata": {},
   "outputs": [
    {
     "name": "stdout",
     "output_type": "stream",
     "text": [
      "Shape of the last hidden state (embedding): torch.Size([1, 12, 1024])\n",
      "Token: [CLS], Embedding Dimension:torch.Size([1024]),\n",
      "Embedding (first 5 components): tensor([-0.3982, -0.5164,  0.1184,  0.2094, -0.0663])\n",
      "Token: The, Embedding Dimension:torch.Size([1024]),\n",
      "Embedding (first 5 components): tensor([-0.5459, -0.9618,  0.1409, -0.1374, -0.1215])\n",
      "Token: quick, Embedding Dimension:torch.Size([1024]),\n",
      "Embedding (first 5 components): tensor([-0.1578,  0.3739, -0.2527, -0.0500,  0.7173])\n",
      "Token: brown, Embedding Dimension:torch.Size([1024]),\n",
      "Embedding (first 5 components): tensor([-1.0575, -0.4547,  0.0686, -0.6760,  0.7317])\n",
      "Token: fox, Embedding Dimension:torch.Size([1024]),\n",
      "Embedding (first 5 components): tensor([-0.1732, -0.2297, -0.7842,  0.0217,  0.0425])\n",
      "Token: jumps, Embedding Dimension:torch.Size([1024]),\n",
      "Embedding (first 5 components): tensor([-0.5367,  0.0404, -0.0642, -0.2768,  0.2793])\n",
      "Token: over, Embedding Dimension:torch.Size([1024]),\n",
      "Embedding (first 5 components): tensor([-0.4793, -0.4594, -0.0895, -0.7444,  0.3015])\n",
      "Token: the, Embedding Dimension:torch.Size([1024]),\n",
      "Embedding (first 5 components): tensor([-0.1132,  0.5350,  0.7333, -0.5768,  0.5068])\n",
      "Token: lazy, Embedding Dimension:torch.Size([1024]),\n",
      "Embedding (first 5 components): tensor([-0.1651,  0.8514, -0.1275,  0.1112,  0.4956])\n",
      "Token: dog, Embedding Dimension:torch.Size([1024]),\n",
      "Embedding (first 5 components): tensor([-0.1368,  0.5770, -0.6267,  0.0595, -0.1130])\n",
      "Token: ., Embedding Dimension:torch.Size([1024]),\n",
      "Embedding (first 5 components): tensor([-0.1039, -1.2749, -0.1801,  0.0774,  0.0065])\n",
      "Token: [SEP], Embedding Dimension:torch.Size([1024]),\n",
      "Embedding (first 5 components): tensor([-0.1040, -1.2749, -0.1801,  0.0775,  0.0065])\n"
     ]
    }
   ],
   "source": [
    "# from transformers import BertModel\n",
    "# import torch\n",
    "\n",
    "# model = BertModel.from_pretrained(MODEL_NAME)\n",
    "\n",
    "# with torch.no_grad():\n",
    "#     outputs = model(**bert_inputs)\n",
    "\n",
    "# last_hidden_states = outputs.last_hidden_state\n",
    "\n",
    "# print('Shape of the last hidden state (embedding):', last_hidden_states.shape)\n",
    "\n",
    "# tokens = bert_tokenizer.convert_ids_to_tokens(bert_inputs['input_ids'][0])\n",
    "# for token, embedding in zip(tokens, last_hidden_states[0]):\n",
    "#     print(f\"Token: {token}, Embedding Dimension:{embedding.shape},\\nEmbedding (first 5 components): {embedding[:5]}\")\n"
   ]
  },
  {
   "cell_type": "markdown",
   "metadata": {},
   "source": [
    "Models like SBERT (Sentence-BERT) are specialized in generating high-quality sentence embeddings."
   ]
  },
  {
   "cell_type": "markdown",
   "metadata": {},
   "source": [
    "## Text Similarity Search\n",
    "\n",
    "### Handle 4.5 GB JSON file"
   ]
  },
  {
   "cell_type": "code",
   "execution_count": 2,
   "metadata": {},
   "outputs": [],
   "source": [
    "MODEL_NAME = 'bert-base-uncased'\n",
    "dataset_path = '../data/arxiv_papers/arxiv-metadata-oai-snapshot.json'"
   ]
  },
  {
   "cell_type": "markdown",
   "metadata": {},
   "source": [
    "Read one example line"
   ]
  },
  {
   "cell_type": "code",
   "execution_count": 3,
   "metadata": {},
   "outputs": [],
   "source": [
    "import json\n",
    "\n",
    "# # Open the NDJSON file\n",
    "# with open(dataset_path, 'r') as f:\n",
    "#     # Read the first line\n",
    "#     line = f.readline().strip()\n",
    "#     # Parse the JSON object\n",
    "#     data = json.loads(line)\n",
    "#     print(data)  # Output the parsed JSON\n"
   ]
  },
  {
   "cell_type": "markdown",
   "metadata": {},
   "source": [
    "Read lines from the file."
   ]
  },
  {
   "cell_type": "code",
   "execution_count": 4,
   "metadata": {},
   "outputs": [
    {
     "name": "stdout",
     "output_type": "stream",
     "text": [
      "{'id': '0704.0001', 'submitter': 'Pavel Nadolsky', 'authors': \"C. Bal\\\\'azs, E. L. Berger, P. M. Nadolsky, C.-P. Yuan\", 'title': 'Calculation of prompt diphoton production cross sections at Tevatron and\\n  LHC energies', 'comments': '37 pages, 15 figures; published version', 'journal-ref': 'Phys.Rev.D76:013009,2007', 'doi': '10.1103/PhysRevD.76.013009', 'report-no': 'ANL-HEP-PR-07-12', 'categories': 'hep-ph', 'license': None, 'abstract': '  A fully differential calculation in perturbative quantum chromodynamics is\\npresented for the production of massive photon pairs at hadron colliders. All\\nnext-to-leading order perturbative contributions from quark-antiquark,\\ngluon-(anti)quark, and gluon-gluon subprocesses are included, as well as\\nall-orders resummation of initial-state gluon radiation valid at\\nnext-to-next-to-leading logarithmic accuracy. The region of phase space is\\nspecified in which the calculation is most reliable. Good agreement is\\ndemonstrated with data from the Fermilab Tevatron, and predictions are made for\\nmore detailed tests with CDF and DO data. Predictions are shown for\\ndistributions of diphoton pairs produced at the energy of the Large Hadron\\nCollider (LHC). Distributions of the diphoton pairs from the decay of a Higgs\\nboson are contrasted with those produced from QCD processes at the LHC, showing\\nthat enhanced sensitivity to the signal can be obtained with judicious\\nselection of events.\\n', 'versions': [{'version': 'v1', 'created': 'Mon, 2 Apr 2007 19:18:42 GMT'}, {'version': 'v2', 'created': 'Tue, 24 Jul 2007 20:10:27 GMT'}], 'update_date': '2008-11-26', 'authors_parsed': [['Balázs', 'C.', ''], ['Berger', 'E. L.', ''], ['Nadolsky', 'P. M.', ''], ['Yuan', 'C. -P.', '']]}\n",
      "{'id': '0704.0002', 'submitter': 'Louis Theran', 'authors': 'Ileana Streinu and Louis Theran', 'title': 'Sparsity-certifying Graph Decompositions', 'comments': 'To appear in Graphs and Combinatorics', 'journal-ref': None, 'doi': None, 'report-no': None, 'categories': 'math.CO cs.CG', 'license': 'http://arxiv.org/licenses/nonexclusive-distrib/1.0/', 'abstract': '  We describe a new algorithm, the $(k,\\\\ell)$-pebble game with colors, and use\\nit obtain a characterization of the family of $(k,\\\\ell)$-sparse graphs and\\nalgorithmic solutions to a family of problems concerning tree decompositions of\\ngraphs. Special instances of sparse graphs appear in rigidity theory and have\\nreceived increased attention in recent years. In particular, our colored\\npebbles generalize and strengthen the previous results of Lee and Streinu and\\ngive a new proof of the Tutte-Nash-Williams characterization of arboricity. We\\nalso present a new decomposition that certifies sparsity based on the\\n$(k,\\\\ell)$-pebble game with colors. Our work also exposes connections between\\npebble game algorithms and previous sparse graph algorithms by Gabow, Gabow and\\nWestermann and Hendrickson.\\n', 'versions': [{'version': 'v1', 'created': 'Sat, 31 Mar 2007 02:26:18 GMT'}, {'version': 'v2', 'created': 'Sat, 13 Dec 2008 17:26:00 GMT'}], 'update_date': '2008-12-13', 'authors_parsed': [['Streinu', 'Ileana', ''], ['Theran', 'Louis', '']]}\n",
      "{'id': '0704.0003', 'submitter': 'Hongjun Pan', 'authors': 'Hongjun Pan', 'title': 'The evolution of the Earth-Moon system based on the dark matter field\\n  fluid model', 'comments': '23 pages, 3 figures', 'journal-ref': None, 'doi': None, 'report-no': None, 'categories': 'physics.gen-ph', 'license': None, 'abstract': \"  The evolution of Earth-Moon system is described by the dark matter field\\nfluid model proposed in the Meeting of Division of Particle and Field 2004,\\nAmerican Physical Society. The current behavior of the Earth-Moon system agrees\\nwith this model very well and the general pattern of the evolution of the\\nMoon-Earth system described by this model agrees with geological and fossil\\nevidence. The closest distance of the Moon to Earth was about 259000 km at 4.5\\nbillion years ago, which is far beyond the Roche's limit. The result suggests\\nthat the tidal friction may not be the primary cause for the evolution of the\\nEarth-Moon system. The average dark matter field fluid constant derived from\\nEarth-Moon system data is 4.39 x 10^(-22) s^(-1)m^(-1). This model predicts\\nthat the Mars's rotation is also slowing with the angular acceleration rate\\nabout -4.38 x 10^(-22) rad s^(-2).\\n\", 'versions': [{'version': 'v1', 'created': 'Sun, 1 Apr 2007 20:46:54 GMT'}, {'version': 'v2', 'created': 'Sat, 8 Dec 2007 23:47:24 GMT'}, {'version': 'v3', 'created': 'Sun, 13 Jan 2008 00:36:28 GMT'}], 'update_date': '2008-01-13', 'authors_parsed': [['Pan', 'Hongjun', '']]}\n",
      "{'id': '0704.0004', 'submitter': 'David Callan', 'authors': 'David Callan', 'title': 'A determinant of Stirling cycle numbers counts unlabeled acyclic\\n  single-source automata', 'comments': '11 pages', 'journal-ref': None, 'doi': None, 'report-no': None, 'categories': 'math.CO', 'license': None, 'abstract': '  We show that a determinant of Stirling cycle numbers counts unlabeled acyclic\\nsingle-source automata. The proof involves a bijection from these automata to\\ncertain marked lattice paths and a sign-reversing involution to evaluate the\\ndeterminant.\\n', 'versions': [{'version': 'v1', 'created': 'Sat, 31 Mar 2007 03:16:14 GMT'}], 'update_date': '2007-05-23', 'authors_parsed': [['Callan', 'David', '']]}\n",
      "{'id': '0704.0005', 'submitter': 'Alberto Torchinsky', 'authors': 'Wael Abu-Shammala and Alberto Torchinsky', 'title': 'From dyadic $\\\\Lambda_{\\\\alpha}$ to $\\\\Lambda_{\\\\alpha}$', 'comments': None, 'journal-ref': 'Illinois J. Math. 52 (2008) no.2, 681-689', 'doi': None, 'report-no': None, 'categories': 'math.CA math.FA', 'license': None, 'abstract': '  In this paper we show how to compute the $\\\\Lambda_{\\\\alpha}$ norm, $\\\\alpha\\\\ge\\n0$, using the dyadic grid. This result is a consequence of the description of\\nthe Hardy spaces $H^p(R^N)$ in terms of dyadic and special atoms.\\n', 'versions': [{'version': 'v1', 'created': 'Mon, 2 Apr 2007 18:09:58 GMT'}], 'update_date': '2013-10-15', 'authors_parsed': [['Abu-Shammala', 'Wael', ''], ['Torchinsky', 'Alberto', '']]}\n",
      "{'id': '0704.0006', 'submitter': 'Yue Hin Pong', 'authors': 'Y. H. Pong and C. K. Law', 'title': 'Bosonic characters of atomic Cooper pairs across resonance', 'comments': '6 pages, 4 figures, accepted by PRA', 'journal-ref': None, 'doi': '10.1103/PhysRevA.75.043613', 'report-no': None, 'categories': 'cond-mat.mes-hall', 'license': None, 'abstract': '  We study the two-particle wave function of paired atoms in a Fermi gas with\\ntunable interaction strengths controlled by Feshbach resonance. The Cooper pair\\nwave function is examined for its bosonic characters, which is quantified by\\nthe correction of Bose enhancement factor associated with the creation and\\nannihilation composite particle operators. An example is given for a\\nthree-dimensional uniform gas. Two definitions of Cooper pair wave function are\\nexamined. One of which is chosen to reflect the off-diagonal long range order\\n(ODLRO). Another one corresponds to a pair projection of a BCS state. On the\\nside with negative scattering length, we found that paired atoms described by\\nODLRO are more bosonic than the pair projected definition. It is also found\\nthat at $(k_F a)^{-1} \\\\ge 1$, both definitions give similar results, where more\\nthan 90% of the atoms occupy the corresponding molecular condensates.\\n', 'versions': [{'version': 'v1', 'created': 'Sat, 31 Mar 2007 04:24:59 GMT'}], 'update_date': '2015-05-13', 'authors_parsed': [['Pong', 'Y. H.', ''], ['Law', 'C. K.', '']]}\n",
      "{'id': '0704.0007', 'submitter': 'Alejandro Corichi', 'authors': 'Alejandro Corichi, Tatjana Vukasinac and Jose A. Zapata', 'title': 'Polymer Quantum Mechanics and its Continuum Limit', 'comments': '16 pages, no figures. Typos corrected to match published version', 'journal-ref': 'Phys.Rev.D76:044016,2007', 'doi': '10.1103/PhysRevD.76.044016', 'report-no': 'IGPG-07/03-2', 'categories': 'gr-qc', 'license': None, 'abstract': '  A rather non-standard quantum representation of the canonical commutation\\nrelations of quantum mechanics systems, known as the polymer representation has\\ngained some attention in recent years, due to its possible relation with Planck\\nscale physics. In particular, this approach has been followed in a symmetric\\nsector of loop quantum gravity known as loop quantum cosmology. Here we explore\\ndifferent aspects of the relation between the ordinary Schroedinger theory and\\nthe polymer description. The paper has two parts. In the first one, we derive\\nthe polymer quantum mechanics starting from the ordinary Schroedinger theory\\nand show that the polymer description arises as an appropriate limit. In the\\nsecond part we consider the continuum limit of this theory, namely, the reverse\\nprocess in which one starts from the discrete theory and tries to recover back\\nthe ordinary Schroedinger quantum mechanics. We consider several examples of\\ninterest, including the harmonic oscillator, the free particle and a simple\\ncosmological model.\\n', 'versions': [{'version': 'v1', 'created': 'Sat, 31 Mar 2007 04:27:22 GMT'}, {'version': 'v2', 'created': 'Wed, 22 Aug 2007 22:42:11 GMT'}], 'update_date': '2008-11-26', 'authors_parsed': [['Corichi', 'Alejandro', ''], ['Vukasinac', 'Tatjana', ''], ['Zapata', 'Jose A.', '']]}\n",
      "{'id': '0704.0008', 'submitter': 'Damian Swift', 'authors': 'Damian C. Swift', 'title': 'Numerical solution of shock and ramp compression for general material\\n  properties', 'comments': 'Minor corrections', 'journal-ref': 'Journal of Applied Physics, vol 104, 073536 (2008)', 'doi': '10.1063/1.2975338', 'report-no': 'LA-UR-07-2051, LLNL-JRNL-410358', 'categories': 'cond-mat.mtrl-sci', 'license': 'http://arxiv.org/licenses/nonexclusive-distrib/1.0/', 'abstract': '  A general formulation was developed to represent material models for\\napplications in dynamic loading. Numerical methods were devised to calculate\\nresponse to shock and ramp compression, and ramp decompression, generalizing\\nprevious solutions for scalar equations of state. The numerical methods were\\nfound to be flexible and robust, and matched analytic results to a high\\naccuracy. The basic ramp and shock solution methods were coupled to solve for\\ncomposite deformation paths, such as shock-induced impacts, and shock\\ninteractions with a planar interface between different materials. These\\ncalculations capture much of the physics of typical material dynamics\\nexperiments, without requiring spatially-resolving simulations. Example\\ncalculations were made of loading histories in metals, illustrating the effects\\nof plastic work on the temperatures induced in quasi-isentropic and\\nshock-release experiments, and the effect of a phase transition.\\n', 'versions': [{'version': 'v1', 'created': 'Sat, 31 Mar 2007 04:47:20 GMT'}, {'version': 'v2', 'created': 'Thu, 10 Apr 2008 08:42:28 GMT'}, {'version': 'v3', 'created': 'Tue, 1 Jul 2008 18:54:28 GMT'}], 'update_date': '2009-02-05', 'authors_parsed': [['Swift', 'Damian C.', '']]}\n",
      "{'id': '0704.0009', 'submitter': 'Paul Harvey', 'authors': 'Paul Harvey, Bruno Merin, Tracy L. Huard, Luisa M. Rebull, Nicholas\\n  Chapman, Neal J. Evans II, Philip C. Myers', 'title': 'The Spitzer c2d Survey of Large, Nearby, Insterstellar Clouds. IX. The\\n  Serpens YSO Population As Observed With IRAC and MIPS', 'comments': None, 'journal-ref': 'Astrophys.J.663:1149-1173,2007', 'doi': '10.1086/518646', 'report-no': None, 'categories': 'astro-ph', 'license': None, 'abstract': \"  We discuss the results from the combined IRAC and MIPS c2d Spitzer Legacy\\nobservations of the Serpens star-forming region. In particular we present a set\\nof criteria for isolating bona fide young stellar objects, YSO's, from the\\nextensive background contamination by extra-galactic objects. We then discuss\\nthe properties of the resulting high confidence set of YSO's. We find 235 such\\nobjects in the 0.85 deg^2 field that was covered with both IRAC and MIPS. An\\nadditional set of 51 lower confidence YSO's outside this area is identified\\nfrom the MIPS data combined with 2MASS photometry. We describe two sets of\\nresults, color-color diagrams to compare our observed source properties with\\nthose of theoretical models for star/disk/envelope systems and our own modeling\\nof the subset of our objects that appear to be star+disks. These objects\\nexhibit a very wide range of disk properties, from many that can be fit with\\nactively accreting disks to some with both passive disks and even possibly\\ndebris disks. We find that the luminosity function of YSO's in Serpens extends\\ndown to at least a few x .001 Lsun or lower for an assumed distance of 260 pc.\\nThe lower limit may be set by our inability to distinguish YSO's from\\nextra-galactic sources more than by the lack of YSO's at very low luminosities.\\nA spatial clustering analysis shows that the nominally less-evolved YSO's are\\nmore highly clustered than the later stages and that the background\\nextra-galactic population can be fit by the same two-point correlation function\\nas seen in other extra-galactic studies. We also present a table of matches\\nbetween several previous infrared and X-ray studies of the Serpens YSO\\npopulation and our Spitzer data set.\\n\", 'versions': [{'version': 'v1', 'created': 'Mon, 2 Apr 2007 19:41:34 GMT'}], 'update_date': '2010-03-18', 'authors_parsed': [['Harvey', 'Paul', ''], ['Merin', 'Bruno', ''], ['Huard', 'Tracy L.', ''], ['Rebull', 'Luisa M.', ''], ['Chapman', 'Nicholas', ''], ['Evans', 'Neal J.', 'II'], ['Myers', 'Philip C.', '']]}\n",
      "{'id': '0704.0010', 'submitter': 'Sergei Ovchinnikov', 'authors': 'Sergei Ovchinnikov', 'title': 'Partial cubes: structures, characterizations, and constructions', 'comments': '36 pages, 17 figures', 'journal-ref': None, 'doi': None, 'report-no': None, 'categories': 'math.CO', 'license': None, 'abstract': \"  Partial cubes are isometric subgraphs of hypercubes. Structures on a graph\\ndefined by means of semicubes, and Djokovi\\\\'{c}'s and Winkler's relations play\\nan important role in the theory of partial cubes. These structures are employed\\nin the paper to characterize bipartite graphs and partial cubes of arbitrary\\ndimension. New characterizations are established and new proofs of some known\\nresults are given.\\n  The operations of Cartesian product and pasting, and expansion and\\ncontraction processes are utilized in the paper to construct new partial cubes\\nfrom old ones. In particular, the isometric and lattice dimensions of finite\\npartial cubes obtained by means of these operations are calculated.\\n\", 'versions': [{'version': 'v1', 'created': 'Sat, 31 Mar 2007 05:10:16 GMT'}], 'update_date': '2007-05-23', 'authors_parsed': [['Ovchinnikov', 'Sergei', '']]}\n"
     ]
    }
   ],
   "source": [
    "texts = []\n",
    "with open(dataset_path, 'r') as f:\n",
    "    for line in f:\n",
    "        data = json.loads(line)\n",
    "        texts.append(data)\n",
    "        print(data)\n",
    "        if len(texts) > 9:\n",
    "            break"
   ]
  },
  {
   "cell_type": "markdown",
   "metadata": {},
   "source": [
    "## Create Embeddings"
   ]
  },
  {
   "cell_type": "code",
   "execution_count": 1,
   "metadata": {},
   "outputs": [
    {
     "name": "stderr",
     "output_type": "stream",
     "text": [
      "/home/piotr/projects/articles_similarity/scientific_abstracts_similarity/dev/lib/python3.10/site-packages/tqdm/auto.py:21: TqdmWarning: IProgress not found. Please update jupyter and ipywidgets. See https://ipywidgets.readthedocs.io/en/stable/user_install.html\n",
      "  from .autonotebook import tqdm as notebook_tqdm\n",
      "your 131072x1 screen size is bogus. expect trouble\n",
      "24/12/09 11:41:37 WARN Utils: Your hostname, Piotr-Szefer resolves to a loopback address: 127.0.1.1; using 172.20.255.242 instead (on interface eth0)\n",
      "24/12/09 11:41:37 WARN Utils: Set SPARK_LOCAL_IP if you need to bind to another address\n",
      "Setting default log level to \"WARN\".\n",
      "To adjust logging level use sc.setLogLevel(newLevel). For SparkR, use setLogLevel(newLevel).\n",
      "24/12/09 11:41:39 WARN NativeCodeLoader: Unable to load native-hadoop library for your platform... using builtin-java classes where applicable\n",
      "                                                                                \r"
     ]
    }
   ],
   "source": [
    "from pyspark.sql import SparkSession\n",
    "import pandas as pd\n",
    "from pyspark.sql.functions import pandas_udf\n",
    "from pyspark.sql.types import StringType, ArrayType\n",
    "from transformers import BertTokenizer, BertModel\n",
    "import torch\n",
    "import numpy as np\n",
    "from sklearn.metrics.pairwise import cosine_similarity\n",
    "from pyspark.sql.functions import col\n",
    "\n",
    "MODEL_NAME = 'bert-base-uncased'\n",
    "dataset_path = '../data/arxiv_papers/arxiv-metadata-oai-snapshot.json'\n",
    "\n",
    "spark = SparkSession.builder \\\n",
    "    .appName(\"Embeddings for Abstracts\") \\\n",
    "    .config(\"spark.driver.memory\", \"15g\") \\\n",
    "    .config(\"spark.executor.memory\", \"30g\") \\\n",
    "    .config(\"spark.sql.autoBroadcastJoinThreshold\", \"1000MB\") \\\n",
    "    .getOrCreate()\n",
    "    \n",
    "df = spark.read.json(dataset_path)"
   ]
  },
  {
   "cell_type": "code",
   "execution_count": 2,
   "metadata": {},
   "outputs": [
    {
     "name": "stdout",
     "output_type": "stream",
     "text": [
      "+--------------------+--------------------+--------------------+-------------+--------------------+--------------------+---------+--------------------+--------------------+----------------+--------------+--------------------+-----------+--------------------+\n",
      "|            abstract|             authors|      authors_parsed|   categories|            comments|                 doi|       id|         journal-ref|             license|       report-no|     submitter|               title|update_date|            versions|\n",
      "+--------------------+--------------------+--------------------+-------------+--------------------+--------------------+---------+--------------------+--------------------+----------------+--------------+--------------------+-----------+--------------------+\n",
      "|  A fully differe...|C. Bal\\'azs, E. L...|[[Balázs, C., ], ...|       hep-ph|37 pages, 15 figu...|10.1103/PhysRevD....|0704.0001|Phys.Rev.D76:0130...|                NULL|ANL-HEP-PR-07-12|Pavel Nadolsky|Calculation of pr...| 2008-11-26|[{Mon, 2 Apr 2007...|\n",
      "|  We describe a n...|Ileana Streinu an...|[[Streinu, Ileana...|math.CO cs.CG|To appear in Grap...|                NULL|0704.0002|                NULL|http://arxiv.org/...|            NULL|  Louis Theran|Sparsity-certifyi...| 2008-12-13|[{Sat, 31 Mar 200...|\n",
      "+--------------------+--------------------+--------------------+-------------+--------------------+--------------------+---------+--------------------+--------------------+----------------+--------------+--------------------+-----------+--------------------+\n",
      "\n",
      "root\n",
      " |-- abstract: string (nullable = true)\n",
      " |-- authors: string (nullable = true)\n",
      " |-- authors_parsed: array (nullable = true)\n",
      " |    |-- element: array (containsNull = true)\n",
      " |    |    |-- element: string (containsNull = true)\n",
      " |-- categories: string (nullable = true)\n",
      " |-- comments: string (nullable = true)\n",
      " |-- doi: string (nullable = true)\n",
      " |-- id: string (nullable = true)\n",
      " |-- journal-ref: string (nullable = true)\n",
      " |-- license: string (nullable = true)\n",
      " |-- report-no: string (nullable = true)\n",
      " |-- submitter: string (nullable = true)\n",
      " |-- title: string (nullable = true)\n",
      " |-- update_date: string (nullable = true)\n",
      " |-- versions: array (nullable = true)\n",
      " |    |-- element: struct (containsNull = true)\n",
      " |    |    |-- created: string (nullable = true)\n",
      " |    |    |-- version: string (nullable = true)\n",
      "\n"
     ]
    }
   ],
   "source": [
    "df_small = df.limit(2)\n",
    "df_small.show()\n",
    "df_small.printSchema()"
   ]
  },
  {
   "cell_type": "code",
   "execution_count": null,
   "metadata": {},
   "outputs": [
    {
     "name": "stdout",
     "output_type": "stream",
     "text": [
      "+--------------------+--------------------+--------------------+-------------+--------------------+--------------------+---------+--------------------+--------------------+----------------+--------------+--------------------+-----------+--------------------+--------------------+--------------------+\n",
      "|            abstract|             authors|      authors_parsed|   categories|            comments|                 doi|       id|         journal-ref|             license|       report-no|     submitter|               title|update_date|            versions|  abstract_as_string|         capitalized|\n",
      "+--------------------+--------------------+--------------------+-------------+--------------------+--------------------+---------+--------------------+--------------------+----------------+--------------+--------------------+-----------+--------------------+--------------------+--------------------+\n",
      "|  A fully differe...|C. Bal\\'azs, E. L...|[[Balázs, C., ], ...|       hep-ph|37 pages, 15 figu...|10.1103/PhysRevD....|0704.0001|Phys.Rev.D76:0130...|                NULL|ANL-HEP-PR-07-12|Pavel Nadolsky|Calculation of pr...| 2008-11-26|[{Mon, 2 Apr 2007...|  A fully differe...|  a fully differe...|\n",
      "|  We describe a n...|Ileana Streinu an...|[[Streinu, Ileana...|math.CO cs.CG|To appear in Grap...|                NULL|0704.0002|                NULL|http://arxiv.org/...|            NULL|  Louis Theran|Sparsity-certifyi...| 2008-12-13|[{Sat, 31 Mar 200...|  We describe a n...|  we describe a n...|\n",
      "+--------------------+--------------------+--------------------+-------------+--------------------+--------------------+---------+--------------------+--------------------+----------------+--------------+--------------------+-----------+--------------------+--------------------+--------------------+\n",
      "\n"
     ]
    }
   ],
   "source": [
    "# @pandas_udf(StringType())\n",
    "# def get_string_as_input_udf(text):\n",
    "#     # print(text)\n",
    "#     # text = text.to_string()\n",
    "#     output = []\n",
    "#     for txt in text:\n",
    "#         # print(f'Loop: {txt}')\n",
    "#         # print(type(txt))\n",
    "#         output.append(txt.capitalize())\n",
    "#     # print(f'Output: {output} of length {len(output)}')\n",
    "#     return pd.Series(output)\n",
    "\n",
    "# res_df = df_small.withColumn(\n",
    "#     'capitalized', get_string_as_input_udf(df_small.abstract)\n",
    "#     )\n",
    "\n",
    "# res_df.show()\n"
   ]
  },
  {
   "cell_type": "code",
   "execution_count": null,
   "metadata": {},
   "outputs": [
    {
     "name": "stderr",
     "output_type": "stream",
     "text": [
      "[INFO] pass <class 'str'> to tokenizer.                             (0 + 1) / 1]\n",
      "Type of the last hidden state is: <class 'numpy.ndarray'>\n",
      "An embed: [-3.77148062e-01 -4.81337532e-02  3.44414890e-01 -1.93679184e-01\n",
      "  5.33446781e-02 -9.25121233e-02 -1.14319779e-01  8.87638927e-02\n",
      "  5.33394441e-02 -1.04521960e-01 -2.46438831e-02 -3.02394837e-01\n",
      " -4.31008786e-01  3.86774033e-01 -1.23301834e-01  6.62005246e-01\n",
      "  3.10081750e-01  8.59795697e-03 -2.74683069e-02  5.85905872e-02\n",
      "  5.39790928e-01  1.74066707e-01 -1.57918602e-01  6.68664217e-01\n",
      "  3.02956283e-01 -3.70178968e-01 -4.09604013e-02  4.46310453e-02\n",
      "  2.86020376e-02 -6.92848638e-02  1.29051879e-01  3.55074942e-01\n",
      " -3.53719413e-01 -2.33326599e-01  2.81835616e-01  2.32169285e-01\n",
      "  3.27921920e-02 -1.87464550e-01  3.80876623e-02  1.71333537e-01\n",
      " -5.31015456e-01 -6.08658612e-01 -1.01786986e-01  7.40590021e-02\n",
      " -4.92804289e-01 -4.31992143e-01  4.44798827e-01 -1.99442729e-02\n",
      "  4.17272262e-02 -2.48743445e-01 -5.55935979e-01  6.77505881e-02\n",
      "  1.15937971e-01  3.89824986e-01 -6.15263358e-03  7.27639914e-01\n",
      " -1.62887365e-01 -3.21613431e-01 -6.09428324e-02 -1.19822182e-01\n",
      " -2.02033352e-02 -1.48383245e-01  1.30289733e-01 -2.35632300e-01\n",
      "  3.87511879e-01  2.37030461e-01  1.75272718e-01  3.89197260e-01\n",
      " -5.33548534e-01  6.28505200e-02 -3.59064490e-01  2.76325792e-01\n",
      " -3.77349436e-01 -6.41900823e-02 -1.16802104e-01  5.81274591e-02\n",
      "  8.65126550e-02  3.81478339e-01 -7.52652716e-03 -1.56493381e-01\n",
      " -1.90763906e-01  3.11910033e-01 -2.29155973e-01  1.42629460e-01\n",
      " -1.00463681e-01  5.98237030e-02 -5.59707247e-02 -2.96548046e-02\n",
      " -5.55034161e-01  6.35103643e-01 -1.41683266e-01 -5.50483391e-02\n",
      " -6.50010479e-04  6.40687197e-02  1.21403903e-01  8.96534398e-02\n",
      "  3.62317324e-01 -3.06345820e-01 -8.83050114e-02  4.50117975e-01\n",
      "  1.12006605e-01 -2.34872997e-01  2.10626945e-01 -1.14331335e-01\n",
      " -4.50790947e-04 -2.80728370e-01  8.81481618e-02  7.56942332e-02\n",
      " -6.57946914e-02  3.24562311e-01  8.82753059e-02  1.31799310e-01\n",
      " -1.45388737e-01 -4.81918335e-01 -3.35002512e-01 -3.63791257e-01\n",
      " -1.78870097e-01 -4.13235873e-02  2.33503222e-01  1.64674580e-01\n",
      "  2.34068170e-01  5.32342374e-01  2.28111699e-01  9.16783512e-01\n",
      " -6.88048974e-02  1.94130644e-01  2.69391775e-01  4.15615797e-01\n",
      " -1.95112199e-01 -1.25078768e-01  5.64377367e-01  3.33828807e-01\n",
      "  3.84179205e-01 -2.57450283e-01 -3.66199791e-01  1.20189235e-01\n",
      " -3.09891105e-01 -6.74325153e-02 -5.69325626e-01  1.67921349e-01\n",
      "  3.97926793e-02 -5.09410083e-01  5.13178825e-01  1.26594648e-01\n",
      "  4.69956607e-01  4.56344374e-02 -2.26899162e-01 -1.14467710e-01\n",
      "  9.44421068e-02  5.35417140e-01  7.65672512e-03  2.45222792e-01\n",
      " -1.93744153e-01 -9.46993753e-02 -3.13884050e-01 -4.01963055e-01\n",
      " -3.14375311e-01  5.71431458e-01 -2.78460860e-01  3.45655940e-02\n",
      "  2.47886449e-01 -2.31128410e-01 -2.83409059e-01  6.05189875e-02\n",
      " -6.03091493e-02 -1.44922271e-01  1.78305149e-01  4.59221482e-01\n",
      " -4.58539099e-01  2.02932626e-01 -4.94908877e-02 -4.71163958e-01\n",
      "  6.35575533e-01  4.28081602e-02 -1.93527877e-01 -1.11724786e-01\n",
      " -3.87898623e-03  5.50948316e-04  4.24723893e-01  1.39673918e-01\n",
      " -1.04587030e+00  3.15370858e-01  1.42069623e-01 -9.06777233e-02\n",
      "  4.43348810e-02  9.65537038e-03  3.55460614e-01 -3.75504285e-01\n",
      "  8.04402903e-02 -1.31485537e-01 -3.60199511e-01  6.04207888e-02\n",
      " -4.07422513e-01 -1.48384273e-01  3.21262687e-01  2.71996874e-02\n",
      " -1.03812190e-02 -2.86517203e-01 -5.17440259e-01 -3.65976453e-01\n",
      " -2.14392871e-01 -3.93006466e-02  3.93765867e-01  4.07629013e-02\n",
      " -5.65235838e-02 -4.34105515e-01  8.60037878e-02 -1.53932363e-01\n",
      " -2.06077188e-01  1.68345779e-01 -1.80867568e-01  3.63608658e-01\n",
      "  1.84457116e-02 -5.35748377e-02 -1.22187123e-01  1.47030309e-01\n",
      " -1.98216319e-01 -1.11091267e-02  3.97850692e-01  3.56519073e-01\n",
      "  1.92588508e-01  7.58808479e-02 -3.68814439e-01  3.09986323e-01\n",
      "  2.00961322e-01  1.05861759e+00  2.95202374e-01 -2.25154519e-01\n",
      "  2.58513212e-01  7.48897135e-01  1.38659507e-01 -4.58309740e-01\n",
      "  5.60906112e-01 -5.84978797e-02 -3.34236234e-01 -1.05393521e-01\n",
      " -2.52585024e-01 -1.84612259e-01  2.63477743e-01 -3.65637451e-01\n",
      " -5.19552052e-01  7.80271769e-01  3.85406733e-01  2.95946389e-01\n",
      " -2.70954490e-01 -5.18626869e-01 -8.07234570e-02  8.51249173e-02\n",
      " -3.78491133e-01 -4.69493568e-01 -6.32399797e-01 -1.32406026e-01\n",
      "  8.21504295e-02 -4.25428748e-01  1.64591670e-01 -2.54883647e-01\n",
      " -2.51455724e-01 -4.02751058e-01 -7.24910945e-02  3.18905741e-01\n",
      "  4.05323148e-01  1.54988363e-03  2.91780848e-02 -1.22994967e-01\n",
      " -3.74459684e-01 -6.49761856e-01 -2.48063933e-02  1.10028438e-01\n",
      "  5.48990488e-01  1.23367324e-01 -5.56502603e-02 -7.74397999e-02\n",
      " -2.16436714e-01  4.76758599e-01 -5.57818711e-01 -4.11754042e-01\n",
      "  1.52668089e-01  1.07869089e-01 -1.10276096e-01 -3.38655598e-02\n",
      "  3.16535205e-01  7.14611471e-01 -4.11323100e-01 -4.41069044e-02\n",
      " -2.70031095e-01 -1.26528114e-01  1.83902621e-01  6.13166392e-02\n",
      " -1.36565790e-01 -4.80530977e-01 -2.56969422e-01  8.08316022e-02\n",
      " -4.79980022e-01 -3.84978503e-01 -1.67767666e-02  3.00694138e-01\n",
      "  3.24155480e-01 -2.41363216e-02  9.12551954e-02 -1.57692492e-01\n",
      " -3.56554031e-01 -4.65583175e-01  1.02599412e-01  4.13800418e-01\n",
      " -5.27519286e-01  1.81048028e-02  7.55762830e-02 -3.18367302e-01\n",
      " -2.72595787e+00  2.70111024e-01  4.15861141e-03  1.90550480e-02\n",
      "  4.30823684e-01  2.21162096e-01 -1.28194332e-01 -2.16836065e-01\n",
      " -3.38868231e-01  2.53948182e-01 -4.64539886e-01 -6.60006404e-01\n",
      " -4.20509577e-01  4.18101847e-01  4.59323943e-01 -1.82889789e-01\n",
      "  9.06843022e-02 -2.99295425e-01 -2.43660379e-02  3.67121100e-01\n",
      "  5.59062473e-02 -4.10741985e-01 -1.64072812e-01 -4.98565286e-01\n",
      "  1.19415037e-01  6.69901222e-02 -8.83278027e-02 -2.97124892e-01\n",
      " -2.98193306e-01 -3.61194432e-01  1.28941536e-01 -3.90999615e-01\n",
      " -3.91233303e-02  1.81411490e-01  1.86868846e-01  1.66394234e-01\n",
      " -1.01405323e-01 -4.42226112e-01  2.20937729e-02 -4.64591295e-01\n",
      " -5.23578785e-02 -1.48993716e-01 -3.04805823e-02 -1.46327659e-01\n",
      "  9.35456514e-01 -4.87492047e-02  1.69307843e-01  2.35739693e-01\n",
      "  2.40175903e-01  3.20488751e-01 -9.43167731e-02  6.74773604e-02\n",
      " -3.37111741e-01 -2.91479051e-01 -4.16075848e-02 -3.10772508e-01\n",
      "  1.18622795e-01  7.66432166e-01 -1.80575550e-01 -3.53156388e-01\n",
      "  7.09517524e-02 -2.07764596e-01 -3.31922442e-01 -3.69423777e-02\n",
      " -3.79290015e-01 -3.05141434e-02 -6.24452114e-01 -1.80281535e-01\n",
      "  2.97199428e-01 -9.95308459e-02 -2.20238000e-01  3.39085191e-01\n",
      " -3.72081876e-01 -1.00380257e-01  2.04307497e-01 -2.66906768e-01\n",
      "  2.21342549e-01 -2.69582033e-01  7.79398009e-02  1.48229644e-01\n",
      " -3.57146680e-01 -7.06961215e-01  3.85773748e-01 -2.34478250e-01\n",
      "  2.33697638e-01 -5.17362833e-01 -2.77429491e-01 -2.67558724e-01\n",
      " -1.88174605e-01 -5.37976146e-01  9.74165797e-02 -6.30554929e-02\n",
      "  2.84045279e-01  8.18854496e-02  1.08947128e-01 -7.86486268e-02\n",
      "  1.44209206e-01  1.69741452e-01  3.01596701e-01  9.68902856e-02\n",
      " -9.74195823e-02 -2.34555840e-01  5.45669317e-01 -2.01950714e-01\n",
      " -1.50443926e-01  1.29961193e-01 -4.45522666e-01 -1.05845936e-01\n",
      " -3.44276205e-02  8.67799670e-02  3.44367959e-02 -4.90587264e-01\n",
      "  3.63601953e-01 -3.94423187e-01  2.41270855e-01  1.08486284e-02\n",
      "  1.30657494e-01  6.24819040e-01  1.57453075e-01 -8.29240829e-02\n",
      " -1.25306651e-01  2.86970556e-01 -3.88871580e-01 -2.20738903e-01\n",
      " -1.70601875e-01  2.90298790e-01 -5.30711710e-01  3.50941151e-01\n",
      " -2.02992380e-01 -3.24984133e-01 -3.45244616e-01 -6.72074482e-02\n",
      " -2.30533630e-01  2.37649053e-01  3.50555420e-01 -9.93746147e-02\n",
      " -2.19970807e-01 -1.59750301e-02 -1.26099020e-01  3.67151976e-01\n",
      "  2.47557744e-01  1.71052143e-01  1.22300096e-01 -5.16127765e-01\n",
      " -3.57778221e-02  4.84588653e-01  1.64799958e-01  1.57258958e-01\n",
      " -1.41568944e-01 -7.43964612e-02 -2.62886256e-01 -1.73394889e-01\n",
      " -2.98300036e-03 -2.81480283e-01  7.23441541e-02  2.43370041e-01\n",
      " -3.05924937e-02 -1.09422334e-01  2.00662807e-01 -4.16254371e-01\n",
      "  2.84585416e-01  3.01201642e-01  2.04802990e-01 -5.91391623e-02\n",
      " -3.29732239e-01  5.03655612e-01 -1.01413578e-01  1.63421109e-01\n",
      "  2.38922879e-01  1.02367781e-01 -4.14592534e-01 -2.62111574e-01\n",
      "  5.40249467e-01 -6.25169158e-01 -3.55848044e-01  6.63242698e-01\n",
      "  2.89458781e-01 -2.39827663e-01 -8.24391916e-02  1.25038862e-01\n",
      "  2.24837348e-01 -1.60839453e-01 -4.26739067e-01 -1.19961679e-01\n",
      "  3.28147620e-01  1.80931948e-02  1.01713948e-01 -2.94508219e-01\n",
      "  9.98827517e-02 -2.77091950e-01  1.45010456e-01  6.04487300e-01\n",
      " -5.93571104e-02 -3.07362229e-01 -2.35018715e-01 -3.41041476e-01\n",
      "  9.79994982e-02 -3.13400407e-03 -9.56661850e-02 -8.98249149e-02\n",
      "  1.20103925e-01 -3.90068680e-01 -4.10110921e-01 -3.93852666e-02\n",
      "  2.34198406e-01 -1.93245690e-02 -1.84023991e-01  3.12957108e-01\n",
      "  2.11117223e-01 -9.42420140e-02 -7.83807576e-01 -3.96587431e-01\n",
      " -3.03859472e-01 -2.69266009e-01  2.82679915e-01 -2.70746559e-01\n",
      "  5.94026409e-02 -1.94608822e-01 -3.49184066e-01  2.32230708e-01\n",
      " -3.28271896e-01 -7.11150318e-02  4.25977260e-01  2.84422785e-01\n",
      " -6.75191507e-02 -2.59383589e-01  4.97978367e-02 -1.33427158e-01\n",
      " -1.57643825e-01 -1.63121268e-01 -1.89807221e-01 -9.40870762e-01\n",
      " -3.49036790e-02  2.41817206e-01 -1.86264679e-01 -1.39742538e-01\n",
      " -2.01212063e-01 -6.86770082e-01 -1.84903935e-01 -1.88995242e-01\n",
      " -5.24699967e-03  2.01452821e-01 -1.93674088e-01 -1.85214832e-01\n",
      "  5.66174090e-02 -2.30499785e-02  3.62444013e-01  5.10701239e-01\n",
      " -2.06577592e-02  1.00512683e-01 -1.66648135e-01  8.76269117e-02\n",
      " -8.80234763e-02 -5.16845047e-01  3.28462332e-01 -2.84782082e-01\n",
      " -3.38686079e-01 -3.33593875e-01 -2.10349351e-01 -4.56703790e-02\n",
      " -1.39554322e-01 -3.43516231e-01 -2.06750497e-01 -6.94950074e-02\n",
      "  3.64796102e-01  1.53344184e-01 -1.48282617e-01 -9.44702551e-02\n",
      "  3.30945343e-01 -1.68064952e-01  1.02161877e-01 -4.48685139e-01\n",
      "  4.54550870e-02 -1.17309481e-01 -2.46122405e-01  1.15721397e-01\n",
      " -1.96367558e-02 -7.67243356e-02  1.90120161e-01 -6.40404880e-01\n",
      " -3.94142061e-01 -2.10041385e-02  2.28713006e-01 -1.43861651e-01\n",
      "  2.49378964e-01 -3.15290689e-01 -1.84992492e-01  2.30049878e-01\n",
      " -1.62520915e-01 -1.76136807e-01  4.94576812e-01 -1.28752679e-01\n",
      " -1.96308270e-01 -8.86834413e-03 -1.33322895e-01  2.12642834e-01\n",
      "  1.06463516e+00  4.79310125e-01 -5.75547330e-02 -2.66864300e-02\n",
      " -2.11857185e-01 -5.44607304e-02  1.55680433e-01 -2.05964883e-04\n",
      "  2.02153325e-01  3.20595838e-02  3.38690698e-01 -1.23923771e-01\n",
      " -2.62691319e-01  6.29913285e-02  1.47353649e-01 -6.54553622e-02\n",
      "  2.73675799e-01  2.90403605e-01 -3.10301512e-01 -2.39038095e-01\n",
      "  1.22829549e-01 -8.24051872e-02  4.67570037e-01  7.71799237e-02\n",
      "  7.05955736e-03  3.35326523e-01  4.26330775e-01 -1.30185813e-01\n",
      " -2.32938230e-01  4.18649703e-01 -2.81795710e-02 -3.15940604e-02\n",
      " -4.10002261e-01  2.59899020e-01 -2.17775535e-02  3.91849697e-01\n",
      " -4.95523103e-02  2.00637802e-01 -1.56001270e-01 -2.66149249e-02\n",
      "  9.38160494e-02  3.38181138e-01 -9.75465551e-02 -1.37799099e-01\n",
      " -1.28273234e-01  1.31128639e-01 -2.20234290e-01  8.33226025e-01\n",
      "  4.38163161e-01  2.99879253e-01  4.88308668e-01 -8.19012448e-02\n",
      "  1.30079180e-01  2.74400353e-01  2.69643843e-01  1.84151739e-01\n",
      " -5.83940186e-03  6.87928032e-03  4.78828400e-02 -1.18391603e-01\n",
      "  4.58586484e-01  9.93356705e-02  1.07917413e-02  6.96589768e-01\n",
      "  3.03711653e-01  5.46105742e-01  4.97670591e-01 -5.08645833e-01\n",
      " -9.31955874e-02 -6.13615215e-02  2.41474211e-01 -2.92565208e-02\n",
      " -2.27651507e-01 -4.05014724e-01  2.69041359e-01  1.36406511e-01\n",
      " -3.95650089e-01 -1.70416832e-01 -4.41278890e-02  2.59008080e-01\n",
      "  9.37338024e-02 -5.44535294e-02 -2.28584304e-01  1.03348404e-01\n",
      " -2.92976648e-01  5.92183694e-02 -4.35855806e-01 -3.18258256e-01\n",
      " -3.54121894e-01 -3.41066159e-02 -9.34207663e-02  4.26518805e-02\n",
      " -1.97301447e-01 -2.01882213e-01  3.94102335e-01  2.74262242e-02\n",
      "  3.99279207e-01 -2.27958709e-01 -1.47638738e-01 -3.18917692e-01\n",
      "  6.15460813e-01  3.21989745e-01  6.11756206e-01 -9.80366021e-02\n",
      "  3.85015100e-01 -5.56448810e-02 -3.90668273e-01  3.11059326e-01\n",
      "  2.67696351e-01  2.22669214e-01  8.92103836e-02  6.45904779e-01\n",
      " -4.91011500e-01  1.42936751e-01  9.00476128e-02  3.37003440e-01\n",
      " -3.56024206e-01 -7.56949484e-02  2.99668424e-02 -5.29346347e-01\n",
      " -1.11810289e-01  2.32739896e-01 -3.20557326e-01  2.46051580e-01\n",
      " -1.34906560e-01 -5.75192630e-01  3.53364617e-01  2.73995847e-01\n",
      " -4.07089204e-01  1.21601440e-01  7.65971303e-01  1.74957737e-01\n",
      "  7.98216909e-02 -1.15799926e-01  1.99796960e-01  2.33139783e-01\n",
      "  1.52288318e-01  2.01507419e-01 -2.02612996e-01 -4.08535063e-01\n",
      " -1.52669847e-01  1.51775986e-01 -3.40081751e-01  1.52417392e-01\n",
      " -6.07737526e-02  5.01459002e-01  1.82511762e-01  1.09706558e-01\n",
      "  7.22612500e-01 -1.01469696e-01 -2.70282403e-02 -2.10002467e-01\n",
      " -2.32429877e-01 -2.60098994e-01 -1.87342048e-01 -2.36487929e-02\n",
      " -9.57438871e-02 -8.34967643e-02 -1.78089425e-01 -4.62076902e-01\n",
      "  5.10107055e-02  9.65297297e-02  3.01717035e-02  7.51644224e-02] appended to the list...\n",
      "[INFO] pass <class 'str'> to tokenizer.\n",
      "Type of the last hidden state is: <class 'numpy.ndarray'>\n",
      "An embed: [-4.03785795e-01  1.45854857e-02  1.56480208e-01 -2.11916462e-01\n",
      "  2.77643442e-01  9.63900611e-02  1.37280300e-02 -3.75195257e-02\n",
      "  2.52549015e-02 -1.36411861e-01 -1.43205822e-01 -2.00076744e-01\n",
      " -3.58222306e-01  2.35203370e-01  1.35174960e-01  5.60096681e-01\n",
      "  9.74331424e-02 -1.03119805e-01 -1.88713342e-01  1.79595277e-01\n",
      "  3.90747517e-01  6.02586865e-02 -1.78370133e-01  6.56579196e-01\n",
      "  3.12335521e-01  7.17181414e-02 -1.08155878e-02  2.09799148e-02\n",
      " -2.66436994e-01  1.42669514e-01  4.67212528e-01  3.31800878e-01\n",
      "  1.94743872e-02 -3.79748613e-01  1.03051573e-01  1.43182382e-01\n",
      "  1.74686477e-01 -2.34748617e-01 -7.42338821e-02  2.72632748e-01\n",
      " -1.55692533e-01 -2.86552638e-01  1.34230861e-02  6.62632212e-02\n",
      " -3.07112157e-01 -4.61593628e-01  1.87781543e-01 -4.15622368e-02\n",
      "  1.94587708e-01 -3.37581724e-01 -7.00116098e-01  4.00503784e-01\n",
      "  1.12141378e-01  9.45510790e-02 -1.63659994e-02  5.79829395e-01\n",
      "  1.58097044e-01 -4.61680800e-01 -9.89128500e-02 -1.98402449e-01\n",
      " -3.87465954e-02 -1.67401448e-01  3.40999395e-01 -4.04278934e-01\n",
      "  6.74380437e-02  3.74876291e-01  3.12282816e-02  4.30343807e-01\n",
      " -8.79292488e-01 -1.54365608e-02 -2.78336495e-01 -5.21645602e-03\n",
      " -4.10172254e-01  2.86325421e-02 -1.89833120e-01  7.86100924e-02\n",
      " -1.33518174e-01  2.66764998e-01  3.74376588e-02 -2.03943178e-02\n",
      " -3.85731637e-01  3.64975423e-01 -1.76311448e-01  4.45522279e-01\n",
      "  1.41268492e-01  1.23516873e-01  2.25038156e-02  2.95556813e-01\n",
      " -4.07122463e-01  5.34536183e-01 -1.35806158e-01 -1.89299434e-02\n",
      "  3.38918209e-01  8.41549262e-02  3.21555436e-01  8.85101259e-02\n",
      "  2.26044893e-01 -1.05587691e-01  7.88399726e-02  1.93123788e-01\n",
      "  8.90098736e-02 -6.73203290e-01  2.33555362e-02 -1.82529241e-01\n",
      " -1.74520403e-01 -2.30112985e-01 -1.95456315e-02  3.05439860e-01\n",
      " -5.06412648e-02  3.55546683e-01  1.91381499e-02  5.14109470e-02\n",
      " -4.11431631e-03 -3.77141535e-01 -9.99341756e-02 -1.72836795e-01\n",
      " -5.41184731e-02  1.74098298e-01 -1.93724737e-01  1.31338134e-01\n",
      "  9.03455690e-02  6.64655566e-02  2.70322025e-01  9.59385335e-01\n",
      "  1.75467625e-01  3.43828313e-02  5.86873889e-02  4.46856022e-01\n",
      " -1.43659845e-01 -3.49588305e-01  3.81533146e-01  3.56684983e-01\n",
      "  3.44806075e-01 -9.80616733e-02 -2.93591380e-01 -8.12091008e-02\n",
      " -4.71721917e-01 -1.52125150e-01 -5.30604184e-01  1.46940827e-01\n",
      " -1.02050133e-01 -3.25225383e-01  5.48942268e-01  4.00126167e-02\n",
      "  1.67474285e-01  2.35406719e-02  1.84756164e-02 -1.53126344e-01\n",
      "  1.25853151e-01  1.42611086e-01  3.40286613e-01  8.60841870e-02\n",
      " -2.72516519e-01 -1.73319042e-01 -9.25699472e-02 -3.09725795e-02\n",
      " -4.00742829e-01  2.66925573e-01 -3.19677889e-01 -3.18101272e-02\n",
      "  2.53978342e-01 -9.74866450e-02 -2.30858743e-01  6.17552698e-02\n",
      " -6.64430633e-02 -2.39237964e-01  4.75495979e-02  2.46195614e-01\n",
      " -1.26906469e-01  3.15193146e-01 -2.40478329e-02 -2.88204640e-01\n",
      "  6.28347516e-01 -2.54378989e-02  8.17464218e-02  8.73245597e-02\n",
      "  2.62006462e-01 -1.53757051e-01  2.86817729e-01  1.03957720e-01\n",
      " -9.33786690e-01  2.43415102e-01  1.02672994e-01 -2.65999168e-01\n",
      "  1.03374906e-01 -3.85203809e-02  3.99410903e-01 -3.34099114e-01\n",
      "  4.77702111e-01 -1.31673768e-01 -4.15097892e-01 -4.47474830e-02\n",
      " -3.28485340e-01 -1.05618499e-01  4.62292910e-01  2.27696046e-01\n",
      " -2.34767079e-01 -1.79090008e-01 -5.37496984e-01 -9.31482911e-02\n",
      " -6.17413223e-02 -4.51208912e-02  1.76961124e-01  1.72248885e-01\n",
      " -2.72431314e-01 -3.43177617e-01 -3.20103437e-01 -2.89822996e-01\n",
      " -4.90302533e-01  3.59353900e-01 -4.25502598e-01  4.17962283e-01\n",
      "  1.36480287e-01  8.42105150e-02  1.59963951e-01  1.10737860e-01\n",
      " -9.23089311e-03 -1.73412099e-01  2.49909014e-01  2.03124136e-02\n",
      "  2.86647081e-01 -1.58238281e-02 -5.23196399e-01  4.03065234e-01\n",
      "  4.26496193e-02  1.15133309e+00  3.43539357e-01 -2.92983174e-01\n",
      "  6.44755006e-01  5.67541838e-01  4.29807790e-03 -4.54419911e-01\n",
      "  4.44078714e-01 -8.96121785e-02  7.18841329e-02 -2.29397845e-02\n",
      " -8.49692822e-02 -3.56512606e-01  1.29095182e-01 -3.30963492e-01\n",
      " -1.40786454e-01  5.51987469e-01  2.61925071e-01 -1.47902250e-01\n",
      " -1.27831129e-02 -5.77516079e-01 -1.55812621e-01  1.93949625e-01\n",
      " -2.34413192e-01 -4.72175002e-01 -6.12379849e-01 -1.41728716e-02\n",
      " -1.19535334e-01 -4.59133118e-01 -5.89771122e-02 -1.29176274e-01\n",
      " -1.57198519e-01 -2.81814337e-01  1.56255752e-01  2.67030329e-01\n",
      "  4.93126124e-01 -5.67208091e-03 -3.86315137e-02 -1.44802444e-02\n",
      " -1.79385632e-01 -4.09879386e-01 -2.08659440e-01  2.29145154e-01\n",
      "  5.81225038e-01  2.65542448e-01 -7.58851096e-02 -4.51186836e-01\n",
      " -9.01063159e-02  4.98163581e-01 -5.85942209e-01 -3.14504623e-01\n",
      "  5.04343957e-02 -4.56765294e-02 -2.69338042e-01 -1.18049048e-01\n",
      "  2.62919396e-01  6.23314679e-01 -2.75775701e-01  2.00472698e-02\n",
      " -5.87544441e-01 -3.28276418e-02  9.51597616e-02 -1.14913441e-01\n",
      "  2.26749461e-02 -4.10094887e-01 -1.11928187e-01  6.17803968e-02\n",
      " -5.59926391e-01 -2.50257939e-01  1.44084498e-01  3.53176832e-01\n",
      "  2.59588182e-01 -2.76666760e-01 -2.24603504e-01 -3.63764390e-02\n",
      " -3.83007556e-01 -5.27722776e-01  3.62721160e-02  4.72579487e-02\n",
      " -1.55756146e-01  1.56258404e-01 -1.09699436e-01 -3.82194191e-01\n",
      " -3.16782165e+00  1.57492086e-01 -3.33799869e-02  3.16646025e-02\n",
      "  1.34027317e-01  2.38251045e-01 -1.04301944e-01 -1.66099429e-01\n",
      " -2.79219866e-01  2.00944707e-01 -3.41004372e-01 -6.57510459e-01\n",
      " -3.77598464e-01  5.48187077e-01  2.79638797e-01 -2.24726781e-01\n",
      "  8.07462335e-02 -3.30050528e-01  1.15119174e-01  3.71063769e-01\n",
      " -3.04087043e-01 -4.66476411e-01 -1.65157482e-01 -2.72360176e-01\n",
      "  1.24987334e-01  6.45522177e-01 -9.99505371e-02 -1.77410007e-01\n",
      " -4.27309722e-01 -1.76471099e-01 -1.75879300e-01 -4.57654238e-01\n",
      "  1.00707389e-01  2.56868631e-01 -1.23304963e-01  2.70870417e-01\n",
      " -7.96766952e-02 -3.97311658e-01 -2.74467409e-01 -3.98265064e-01\n",
      " -2.93039113e-01 -1.94491502e-02  2.06030324e-01 -2.15648606e-01\n",
      "  9.80724156e-01 -3.79879847e-02 -1.14891957e-03 -8.89971759e-03\n",
      "  1.09020345e-01  1.14626661e-01  3.70409414e-02 -9.53609403e-03\n",
      " -2.21567869e-01  1.55604541e-01 -7.46457800e-02 -3.74973327e-01\n",
      "  2.24552363e-01  2.33332962e-01 -3.34952146e-01 -1.25973374e-01\n",
      "  2.14854687e-01 -2.46526763e-01 -1.33124232e-01 -2.07845457e-02\n",
      " -1.51513159e-01 -2.82119244e-01 -6.80409908e-01 -3.27290297e-01\n",
      " -1.37354299e-01 -1.23342484e-01 -2.90896326e-01  3.45338762e-01\n",
      " -4.02259618e-01 -2.92360544e-01 -5.17220562e-03 -5.26038229e-01\n",
      "  1.44460604e-01 -1.99518427e-01 -7.80760497e-02  1.91596802e-02\n",
      " -1.56158984e-01 -7.07919359e-01 -8.36935416e-02 -1.28564090e-01\n",
      "  1.72889810e-02 -3.34438592e-01 -1.96847379e-01 -2.87896454e-01\n",
      " -2.34152332e-01 -5.16590059e-01  1.61756858e-01  2.00794265e-01\n",
      "  2.13764414e-01  2.59627223e-01  2.55773693e-01 -1.01369526e-03\n",
      "  2.66226381e-01  1.21547177e-01  3.97060543e-01 -7.17712343e-02\n",
      " -1.67080876e-03 -7.89198875e-02  3.81325781e-01 -6.07829951e-02\n",
      "  1.21105239e-01  2.43144900e-01 -3.03949565e-01  5.16211390e-02\n",
      "  4.56834227e-01  6.35358468e-02 -1.98371425e-01 -4.84154195e-01\n",
      "  1.41491666e-01 -4.33065236e-01  7.37765282e-02  3.69195908e-01\n",
      " -1.28998393e-02  4.53299046e-01  2.68769354e-01 -3.19947630e-01\n",
      " -2.01348543e-01  3.66886079e-01 -6.15846403e-02 -1.37283906e-01\n",
      "  5.79646751e-02  2.09628627e-01 -1.37866110e-01  8.31787363e-02\n",
      " -5.27689792e-02 -1.49977803e-01 -3.28860015e-01 -1.23894334e-01\n",
      " -3.49344224e-01  2.15072632e-01  4.03015673e-01  1.20507111e-03\n",
      " -2.44979218e-01 -3.76432121e-01 -1.24850489e-01  2.83471704e-01\n",
      "  3.73806357e-01  3.03647220e-01 -7.81263933e-02 -3.14259768e-01\n",
      "  1.39459059e-01  4.61784482e-01  2.21171483e-01  3.75795402e-02\n",
      " -1.94749236e-01  2.25259021e-01 -5.35880148e-01 -5.19188106e-01\n",
      "  2.23525465e-01 -4.10719991e-01  2.64319718e-01  1.68370664e-01\n",
      "  2.32377931e-01 -6.30913228e-02  6.41227141e-02 -2.66008377e-01\n",
      "  3.73649925e-01  3.24316084e-01  3.01838428e-01 -1.56380031e-02\n",
      " -3.14575166e-01  2.94564039e-01 -1.22965267e-02 -5.90591729e-02\n",
      " -9.13369935e-03 -2.73129530e-02 -3.41900080e-01 -7.46292174e-02\n",
      "  2.06495419e-01 -3.99383724e-01 -1.34908110e-01  2.96514273e-01\n",
      "  3.34517509e-01 -1.32017180e-01 -9.45580378e-02  2.24583402e-01\n",
      " -1.72421839e-02 -1.51480123e-01 -5.12563847e-02  2.04063833e-01\n",
      "  5.22947013e-01  1.04759216e-01  1.35139212e-01 -2.38723502e-01\n",
      " -1.79124340e-01  5.03808409e-02  2.18180552e-01  3.24461699e-01\n",
      " -9.51788574e-02 -4.17749323e-02 -5.51386774e-01 -1.02574080e-01\n",
      "  3.18222314e-01 -2.57195592e-01  7.62986690e-02  4.93456088e-02\n",
      "  2.57008560e-02 -1.95750415e-01 -2.92928874e-01  1.70256808e-01\n",
      "  2.50985742e-01 -1.75328612e-01  3.76908630e-02  2.05138445e-01\n",
      " -1.72721431e-01 -3.09428223e-03 -6.04171574e-01 -2.42513463e-01\n",
      " -9.45579410e-02 -4.27475363e-01  2.43267357e-01 -1.56871736e-01\n",
      "  9.57444012e-02 -3.18399578e-01 -5.52313566e-01  3.58176343e-02\n",
      " -2.20922977e-01 -3.41482639e-01  2.07615957e-01 -9.19602588e-02\n",
      " -2.01585472e-01 -1.25358090e-01 -2.02912331e-01 -4.09534425e-02\n",
      " -2.45641038e-01 -3.24020758e-02  3.00179627e-02 -1.08901405e+00\n",
      " -7.09171593e-02  1.48423091e-01 -1.56822369e-01 -1.19615078e-01\n",
      " -2.57347763e-01 -3.24617177e-01 -2.21173689e-01 -3.83934766e-01\n",
      " -8.90189111e-02  1.35224491e-01 -9.10594538e-02 -2.72681504e-01\n",
      "  3.17377657e-01 -2.62574647e-02  1.50929438e-02  5.41646719e-01\n",
      "  7.69385695e-02  2.36514315e-01 -1.86602622e-01  1.62930768e-02\n",
      "  1.76344421e-02 -3.02430004e-01  2.84799278e-01 -1.38333356e-02\n",
      " -1.86237544e-01 -1.63584277e-01 -5.07413745e-02  4.82195020e-02\n",
      " -8.50421190e-02 -2.46893883e-01 -7.21519738e-02  9.14339274e-02\n",
      "  2.56096780e-01  2.05382302e-01  6.08985545e-04 -2.10139513e-01\n",
      "  2.97543854e-01 -1.87207922e-01 -8.06549042e-02 -3.24698418e-01\n",
      "  2.07848594e-01 -1.86590746e-01 -1.15167536e-02  2.27149948e-01\n",
      "  1.34515958e-02 -9.61155742e-02  2.73086309e-01 -4.23811316e-01\n",
      " -3.04346055e-01 -8.61465931e-02 -3.23875368e-01 -1.31187320e-01\n",
      "  1.82268128e-01 -4.60832156e-02 -9.47194844e-02  4.07780170e-01\n",
      "  3.50577608e-02  5.96732181e-03 -5.07455058e-02 -1.64997742e-01\n",
      " -1.11287594e-01  1.17420405e-01 -1.57622993e-01  1.99505836e-01\n",
      "  9.17118192e-01  3.85961384e-01 -1.35490537e-01  1.20521076e-01\n",
      " -1.73897278e-02  8.46897438e-02  1.01169765e-01  3.30236435e-01\n",
      "  3.36262304e-03  1.02839530e-01  1.76605746e-01 -3.98083508e-01\n",
      " -1.71915665e-02  6.30784482e-02 -7.57116498e-03 -1.13500968e-01\n",
      "  5.80398262e-01  1.87832147e-01 -3.37181926e-01 -1.05378106e-01\n",
      "  1.20348446e-01 -8.97114053e-02  4.63602424e-01  1.30301297e-01\n",
      "  7.18999431e-02 -1.01522006e-01  6.14586413e-01 -1.67067558e-01\n",
      " -1.39309257e-01  3.55532408e-01 -1.32201150e-01  3.66163850e-02\n",
      " -3.97348367e-02  4.24399048e-01  1.30674273e-01  5.47143161e-01\n",
      " -2.27356747e-01  5.38240910e-01 -1.66122075e-02 -8.74866322e-02\n",
      "  6.53357012e-03 -1.02168314e-01  1.92655787e-01 -1.35137469e-01\n",
      "  2.46223912e-01  1.81439385e-01 -7.34252706e-02  6.17879331e-01\n",
      "  2.02065557e-01  1.61171854e-01  2.48319343e-01 -1.29148096e-01\n",
      "  2.86932200e-01  4.73369688e-01  3.11441362e-01  3.41815084e-01\n",
      " -1.08002171e-01  2.32277498e-01  2.98155248e-01  3.73985171e-02\n",
      "  3.68182838e-01  1.72358274e-01  3.59966099e-01  8.05252075e-01\n",
      "  1.82115838e-01  3.58718902e-01  3.51489097e-01 -4.69177663e-01\n",
      " -4.48946267e-01  9.87456292e-02  5.36366045e-01 -5.74316420e-02\n",
      " -5.06862774e-02 -2.36773178e-01  1.23479977e-01  2.15207711e-01\n",
      " -2.99086183e-01 -5.72390482e-02  6.97485656e-02  1.60812333e-01\n",
      " -8.84335637e-02 -6.14189208e-02 -3.56961489e-01  5.64604029e-02\n",
      "  2.40498316e-02  1.18291825e-01 -1.75610438e-01 -2.92226046e-01\n",
      " -2.61715323e-01 -2.89209753e-01 -1.66425273e-01 -9.40498188e-02\n",
      " -1.00906603e-01  5.63231762e-03  5.39078414e-02  1.16100803e-01\n",
      "  3.73082280e-01 -2.49955300e-02 -9.90116671e-02  1.70154482e-01\n",
      "  6.60518482e-02  6.48373604e-01  7.89412856e-01 -1.65256947e-01\n",
      "  2.86752343e-01 -2.45418012e-01 -1.85532510e-01  1.51165739e-01\n",
      " -3.60728428e-02 -1.18183866e-01  1.25517532e-01  3.86088312e-01\n",
      " -2.47259781e-01  1.59848258e-01 -1.07143493e-02  3.50616783e-01\n",
      " -4.12324488e-01 -1.82195529e-01 -4.18247208e-02 -2.23449022e-01\n",
      " -9.84744206e-02  1.89026132e-01 -4.16385949e-01 -1.50151148e-01\n",
      " -3.24644864e-01 -4.15431112e-01  1.03321187e-01 -1.30504079e-03\n",
      " -1.73248753e-01  1.68334693e-01  3.82386744e-01 -2.08675712e-01\n",
      " -6.20666146e-02 -1.33311108e-01  2.57615149e-01  3.21106881e-01\n",
      " -1.02264427e-01  2.61350214e-01 -9.15820226e-02 -5.89373589e-01\n",
      " -4.16445360e-02  6.45151883e-02 -1.93895936e-01  2.12034713e-02\n",
      " -9.77734104e-02  3.45157325e-01 -2.00681672e-01  1.58487871e-01\n",
      "  3.10374498e-01  1.61662698e-01 -2.21813142e-01 -3.34605426e-01\n",
      " -2.33778134e-01 -4.09495115e-01 -1.47546634e-01  5.95471263e-02\n",
      " -1.11674815e-01 -4.09554034e-01 -2.22546294e-01 -2.05127567e-01\n",
      " -1.37871236e-01  1.42697424e-01 -2.39303336e-01  2.44486555e-01] appended to the list...\n"
     ]
    },
    {
     "name": "stdout",
     "output_type": "stream",
     "text": [
      "+--------------------+--------------------+--------------------+-------------+--------------------+--------------------+---------+--------------------+--------------------+----------------+--------------+--------------------+-----------+--------------------+--------------------+\n",
      "|            abstract|             authors|      authors_parsed|   categories|            comments|                 doi|       id|         journal-ref|             license|       report-no|     submitter|               title|update_date|            versions|      embedding_bert|\n",
      "+--------------------+--------------------+--------------------+-------------+--------------------+--------------------+---------+--------------------+--------------------+----------------+--------------+--------------------+-----------+--------------------+--------------------+\n",
      "|  A fully differe...|C. Bal\\'azs, E. L...|[[Balázs, C., ], ...|       hep-ph|37 pages, 15 figu...|10.1103/PhysRevD....|0704.0001|Phys.Rev.D76:0130...|                NULL|ANL-HEP-PR-07-12|Pavel Nadolsky|Calculation of pr...| 2008-11-26|[{Mon, 2 Apr 2007...|[-0.37714806, -0....|\n",
      "|  We describe a n...|Ileana Streinu an...|[[Streinu, Ileana...|math.CO cs.CG|To appear in Grap...|                NULL|0704.0002|                NULL|http://arxiv.org/...|            NULL|  Louis Theran|Sparsity-certifyi...| 2008-12-13|[{Sat, 31 Mar 200...|[-0.4037858, 0.01...|\n",
      "+--------------------+--------------------+--------------------+-------------+--------------------+--------------------+---------+--------------------+--------------------+----------------+--------------+--------------------+-----------+--------------------+--------------------+\n",
      "\n"
     ]
    },
    {
     "name": "stderr",
     "output_type": "stream",
     "text": [
      "                                                                                \r"
     ]
    }
   ],
   "source": [
    "from pyspark.sql.types import FloatType\n",
    "\n",
    "tokenizer = BertTokenizer.from_pretrained(MODEL_NAME)\n",
    "model = BertModel.from_pretrained(MODEL_NAME)\n",
    "\n",
    "@pandas_udf(ArrayType(FloatType()))\n",
    "def get_sentence_embedding_udf(texts):\n",
    "    \n",
    "    embeddings = []\n",
    "\n",
    "    for text in texts:\n",
    "        print(f'[INFO] pass {type(text)} to tokenizer.')\n",
    "        inputs = tokenizer(text, return_tensors='pt')\n",
    "    \n",
    "        # print(f'[INFO] pass {inputs} to model.')\n",
    "        with torch.no_grad():\n",
    "            outputs = model(**inputs)\n",
    "    \n",
    "        last_hidden_states = outputs.last_hidden_state\n",
    "        embedding = torch.mean(last_hidden_states, dim=1).numpy()\n",
    "        print(f'Type of the last hidden state is: {type(embedding[0])}')\n",
    "        embeddings.append(embedding[0])\n",
    "        print(f'An embed: {embedding[0]} appended to the list...')\n",
    "\n",
    "    return pd.Series(embeddings)\n",
    "\n",
    "result_df = df_small.withColumn(\n",
    "    'embedding_bert', \n",
    "    get_sentence_embedding_udf(df_small.abstract)\n",
    "    )\n",
    "\n",
    "result_df.show()"
   ]
  },
  {
   "cell_type": "code",
   "execution_count": null,
   "metadata": {},
   "outputs": [
    {
     "name": "stderr",
     "output_type": "stream",
     "text": [
      "[Stage 18:>                                                         (0 + 1) / 1]\r"
     ]
    }
   ],
   "source": [
    "# tokenizer = BertTokenizer.from_pretrained(MODEL_NAME)\n",
    "# model = BertModel.from_pretrained(MODEL_NAME)\n",
    "\n",
    "# @pandas_udf(StringType())\n",
    "# def get_sentence_embedding_udf(text):\n",
    "    \n",
    "#     text = text.to_string()\n",
    "\n",
    "#     print(f'[INFO] pass {type(text)} to tokenizer.')\n",
    "#     inputs = tokenizer(text, return_tensors='pt')\n",
    "    \n",
    "#     print(f'[INFO] pass {inputs} to model.')\n",
    "#     with torch.no_grad():\n",
    "#         outputs = model(**inputs)\n",
    "    \n",
    "#     last_hidden_states = outputs.last_hidden_state\n",
    "#     sentence_embedding = torch.mean(last_hidden_states, dim=1).numpy()\n",
    "    \n",
    "#     return sentence_embedding\n",
    "\n",
    "# result_df = df_small.withColumn(\n",
    "#     'embedding_bert', \n",
    "#     get_sentence_embedding_udf(df_small.abstract.cast('string'))\n",
    "#     )\n",
    "\n",
    "# result_df.show()"
   ]
  },
  {
   "cell_type": "code",
   "execution_count": 18,
   "metadata": {},
   "outputs": [
    {
     "ename": "ConnectionRefusedError",
     "evalue": "[Errno 111] Connection refused",
     "output_type": "error",
     "traceback": [
      "\u001b[0;31m---------------------------------------------------------------------------\u001b[0m",
      "\u001b[0;31mConnectionRefusedError\u001b[0m                    Traceback (most recent call last)",
      "Cell \u001b[0;32mIn[18], line 1\u001b[0m\n\u001b[0;32m----> 1\u001b[0m \u001b[43mspark\u001b[49m\u001b[38;5;241;43m.\u001b[39;49m\u001b[43mstop\u001b[49m\u001b[43m(\u001b[49m\u001b[43m)\u001b[49m\n",
      "File \u001b[0;32m/home/piotr/projects/articles_similarity/scientific_abstracts_similarity/dev/lib/python3.10/site-packages/pyspark/sql/session.py:1796\u001b[0m, in \u001b[0;36mSparkSession.stop\u001b[0;34m(self)\u001b[0m\n\u001b[1;32m   1782\u001b[0m \u001b[38;5;250m\u001b[39m\u001b[38;5;124;03m\"\"\"\u001b[39;00m\n\u001b[1;32m   1783\u001b[0m \u001b[38;5;124;03mStop the underlying :class:`SparkContext`.\u001b[39;00m\n\u001b[1;32m   1784\u001b[0m \n\u001b[0;32m   (...)\u001b[0m\n\u001b[1;32m   1792\u001b[0m \u001b[38;5;124;03m>>> spark.stop()  # doctest: +SKIP\u001b[39;00m\n\u001b[1;32m   1793\u001b[0m \u001b[38;5;124;03m\"\"\"\u001b[39;00m\n\u001b[1;32m   1794\u001b[0m \u001b[38;5;28;01mfrom\u001b[39;00m \u001b[38;5;21;01mpyspark\u001b[39;00m\u001b[38;5;21;01m.\u001b[39;00m\u001b[38;5;21;01msql\u001b[39;00m\u001b[38;5;21;01m.\u001b[39;00m\u001b[38;5;21;01mcontext\u001b[39;00m \u001b[38;5;28;01mimport\u001b[39;00m SQLContext\n\u001b[0;32m-> 1796\u001b[0m \u001b[38;5;28;43mself\u001b[39;49m\u001b[38;5;241;43m.\u001b[39;49m\u001b[43m_sc\u001b[49m\u001b[38;5;241;43m.\u001b[39;49m\u001b[43mstop\u001b[49m\u001b[43m(\u001b[49m\u001b[43m)\u001b[49m\n\u001b[1;32m   1797\u001b[0m \u001b[38;5;66;03m# We should clean the default session up. See SPARK-23228.\u001b[39;00m\n\u001b[1;32m   1798\u001b[0m \u001b[38;5;28;01massert\u001b[39;00m \u001b[38;5;28mself\u001b[39m\u001b[38;5;241m.\u001b[39m_jvm \u001b[38;5;129;01mis\u001b[39;00m \u001b[38;5;129;01mnot\u001b[39;00m \u001b[38;5;28;01mNone\u001b[39;00m\n",
      "File \u001b[0;32m/home/piotr/projects/articles_similarity/scientific_abstracts_similarity/dev/lib/python3.10/site-packages/pyspark/context.py:654\u001b[0m, in \u001b[0;36mSparkContext.stop\u001b[0;34m(self)\u001b[0m\n\u001b[1;32m    652\u001b[0m \u001b[38;5;28;01mif\u001b[39;00m \u001b[38;5;28mgetattr\u001b[39m(\u001b[38;5;28mself\u001b[39m, \u001b[38;5;124m\"\u001b[39m\u001b[38;5;124m_jsc\u001b[39m\u001b[38;5;124m\"\u001b[39m, \u001b[38;5;28;01mNone\u001b[39;00m):\n\u001b[1;32m    653\u001b[0m     \u001b[38;5;28;01mtry\u001b[39;00m:\n\u001b[0;32m--> 654\u001b[0m         \u001b[38;5;28;43mself\u001b[39;49m\u001b[38;5;241;43m.\u001b[39;49m\u001b[43m_jsc\u001b[49m\u001b[38;5;241;43m.\u001b[39;49m\u001b[43mstop\u001b[49m\u001b[43m(\u001b[49m\u001b[43m)\u001b[49m\n\u001b[1;32m    655\u001b[0m     \u001b[38;5;28;01mexcept\u001b[39;00m Py4JError:\n\u001b[1;32m    656\u001b[0m         \u001b[38;5;66;03m# Case: SPARK-18523\u001b[39;00m\n\u001b[1;32m    657\u001b[0m         warnings\u001b[38;5;241m.\u001b[39mwarn(\n\u001b[1;32m    658\u001b[0m             \u001b[38;5;124m\"\u001b[39m\u001b[38;5;124mUnable to cleanly shutdown Spark JVM process.\u001b[39m\u001b[38;5;124m\"\u001b[39m\n\u001b[1;32m    659\u001b[0m             \u001b[38;5;124m\"\u001b[39m\u001b[38;5;124m It is possible that the process has crashed,\u001b[39m\u001b[38;5;124m\"\u001b[39m\n\u001b[1;32m    660\u001b[0m             \u001b[38;5;124m\"\u001b[39m\u001b[38;5;124m been killed or may also be in a zombie state.\u001b[39m\u001b[38;5;124m\"\u001b[39m,\n\u001b[1;32m    661\u001b[0m             \u001b[38;5;167;01mRuntimeWarning\u001b[39;00m,\n\u001b[1;32m    662\u001b[0m         )\n",
      "File \u001b[0;32m/home/piotr/projects/articles_similarity/scientific_abstracts_similarity/dev/lib/python3.10/site-packages/py4j/java_gateway.py:1321\u001b[0m, in \u001b[0;36mJavaMember.__call__\u001b[0;34m(self, *args)\u001b[0m\n\u001b[1;32m   1314\u001b[0m args_command, temp_args \u001b[38;5;241m=\u001b[39m \u001b[38;5;28mself\u001b[39m\u001b[38;5;241m.\u001b[39m_build_args(\u001b[38;5;241m*\u001b[39margs)\n\u001b[1;32m   1316\u001b[0m command \u001b[38;5;241m=\u001b[39m proto\u001b[38;5;241m.\u001b[39mCALL_COMMAND_NAME \u001b[38;5;241m+\u001b[39m\\\n\u001b[1;32m   1317\u001b[0m     \u001b[38;5;28mself\u001b[39m\u001b[38;5;241m.\u001b[39mcommand_header \u001b[38;5;241m+\u001b[39m\\\n\u001b[1;32m   1318\u001b[0m     args_command \u001b[38;5;241m+\u001b[39m\\\n\u001b[1;32m   1319\u001b[0m     proto\u001b[38;5;241m.\u001b[39mEND_COMMAND_PART\n\u001b[0;32m-> 1321\u001b[0m answer \u001b[38;5;241m=\u001b[39m \u001b[38;5;28;43mself\u001b[39;49m\u001b[38;5;241;43m.\u001b[39;49m\u001b[43mgateway_client\u001b[49m\u001b[38;5;241;43m.\u001b[39;49m\u001b[43msend_command\u001b[49m\u001b[43m(\u001b[49m\u001b[43mcommand\u001b[49m\u001b[43m)\u001b[49m\n\u001b[1;32m   1322\u001b[0m return_value \u001b[38;5;241m=\u001b[39m get_return_value(\n\u001b[1;32m   1323\u001b[0m     answer, \u001b[38;5;28mself\u001b[39m\u001b[38;5;241m.\u001b[39mgateway_client, \u001b[38;5;28mself\u001b[39m\u001b[38;5;241m.\u001b[39mtarget_id, \u001b[38;5;28mself\u001b[39m\u001b[38;5;241m.\u001b[39mname)\n\u001b[1;32m   1325\u001b[0m \u001b[38;5;28;01mfor\u001b[39;00m temp_arg \u001b[38;5;129;01min\u001b[39;00m temp_args:\n",
      "File \u001b[0;32m/home/piotr/projects/articles_similarity/scientific_abstracts_similarity/dev/lib/python3.10/site-packages/py4j/java_gateway.py:1036\u001b[0m, in \u001b[0;36mGatewayClient.send_command\u001b[0;34m(self, command, retry, binary)\u001b[0m\n\u001b[1;32m   1015\u001b[0m \u001b[38;5;28;01mdef\u001b[39;00m \u001b[38;5;21msend_command\u001b[39m(\u001b[38;5;28mself\u001b[39m, command, retry\u001b[38;5;241m=\u001b[39m\u001b[38;5;28;01mTrue\u001b[39;00m, binary\u001b[38;5;241m=\u001b[39m\u001b[38;5;28;01mFalse\u001b[39;00m):\n\u001b[1;32m   1016\u001b[0m \u001b[38;5;250m    \u001b[39m\u001b[38;5;124;03m\"\"\"Sends a command to the JVM. This method is not intended to be\u001b[39;00m\n\u001b[1;32m   1017\u001b[0m \u001b[38;5;124;03m       called directly by Py4J users. It is usually called by\u001b[39;00m\n\u001b[1;32m   1018\u001b[0m \u001b[38;5;124;03m       :class:`JavaMember` instances.\u001b[39;00m\n\u001b[0;32m   (...)\u001b[0m\n\u001b[1;32m   1034\u001b[0m \u001b[38;5;124;03m     if `binary` is `True`.\u001b[39;00m\n\u001b[1;32m   1035\u001b[0m \u001b[38;5;124;03m    \"\"\"\u001b[39;00m\n\u001b[0;32m-> 1036\u001b[0m     connection \u001b[38;5;241m=\u001b[39m \u001b[38;5;28;43mself\u001b[39;49m\u001b[38;5;241;43m.\u001b[39;49m\u001b[43m_get_connection\u001b[49m\u001b[43m(\u001b[49m\u001b[43m)\u001b[49m\n\u001b[1;32m   1037\u001b[0m     \u001b[38;5;28;01mtry\u001b[39;00m:\n\u001b[1;32m   1038\u001b[0m         response \u001b[38;5;241m=\u001b[39m connection\u001b[38;5;241m.\u001b[39msend_command(command)\n",
      "File \u001b[0;32m/home/piotr/projects/articles_similarity/scientific_abstracts_similarity/dev/lib/python3.10/site-packages/py4j/clientserver.py:284\u001b[0m, in \u001b[0;36mJavaClient._get_connection\u001b[0;34m(self)\u001b[0m\n\u001b[1;32m    281\u001b[0m     \u001b[38;5;28;01mpass\u001b[39;00m\n\u001b[1;32m    283\u001b[0m \u001b[38;5;28;01mif\u001b[39;00m connection \u001b[38;5;129;01mis\u001b[39;00m \u001b[38;5;28;01mNone\u001b[39;00m \u001b[38;5;129;01mor\u001b[39;00m connection\u001b[38;5;241m.\u001b[39msocket \u001b[38;5;129;01mis\u001b[39;00m \u001b[38;5;28;01mNone\u001b[39;00m:\n\u001b[0;32m--> 284\u001b[0m     connection \u001b[38;5;241m=\u001b[39m \u001b[38;5;28;43mself\u001b[39;49m\u001b[38;5;241;43m.\u001b[39;49m\u001b[43m_create_new_connection\u001b[49m\u001b[43m(\u001b[49m\u001b[43m)\u001b[49m\n\u001b[1;32m    285\u001b[0m \u001b[38;5;28;01mreturn\u001b[39;00m connection\n",
      "File \u001b[0;32m/home/piotr/projects/articles_similarity/scientific_abstracts_similarity/dev/lib/python3.10/site-packages/py4j/clientserver.py:291\u001b[0m, in \u001b[0;36mJavaClient._create_new_connection\u001b[0;34m(self)\u001b[0m\n\u001b[1;32m    287\u001b[0m \u001b[38;5;28;01mdef\u001b[39;00m \u001b[38;5;21m_create_new_connection\u001b[39m(\u001b[38;5;28mself\u001b[39m):\n\u001b[1;32m    288\u001b[0m     connection \u001b[38;5;241m=\u001b[39m ClientServerConnection(\n\u001b[1;32m    289\u001b[0m         \u001b[38;5;28mself\u001b[39m\u001b[38;5;241m.\u001b[39mjava_parameters, \u001b[38;5;28mself\u001b[39m\u001b[38;5;241m.\u001b[39mpython_parameters,\n\u001b[1;32m    290\u001b[0m         \u001b[38;5;28mself\u001b[39m\u001b[38;5;241m.\u001b[39mgateway_property, \u001b[38;5;28mself\u001b[39m)\n\u001b[0;32m--> 291\u001b[0m     \u001b[43mconnection\u001b[49m\u001b[38;5;241;43m.\u001b[39;49m\u001b[43mconnect_to_java_server\u001b[49m\u001b[43m(\u001b[49m\u001b[43m)\u001b[49m\n\u001b[1;32m    292\u001b[0m     \u001b[38;5;28mself\u001b[39m\u001b[38;5;241m.\u001b[39mset_thread_connection(connection)\n\u001b[1;32m    293\u001b[0m     \u001b[38;5;28;01mreturn\u001b[39;00m connection\n",
      "File \u001b[0;32m/home/piotr/projects/articles_similarity/scientific_abstracts_similarity/dev/lib/python3.10/site-packages/py4j/clientserver.py:438\u001b[0m, in \u001b[0;36mClientServerConnection.connect_to_java_server\u001b[0;34m(self)\u001b[0m\n\u001b[1;32m    435\u001b[0m \u001b[38;5;28;01mif\u001b[39;00m \u001b[38;5;28mself\u001b[39m\u001b[38;5;241m.\u001b[39mssl_context:\n\u001b[1;32m    436\u001b[0m     \u001b[38;5;28mself\u001b[39m\u001b[38;5;241m.\u001b[39msocket \u001b[38;5;241m=\u001b[39m \u001b[38;5;28mself\u001b[39m\u001b[38;5;241m.\u001b[39mssl_context\u001b[38;5;241m.\u001b[39mwrap_socket(\n\u001b[1;32m    437\u001b[0m         \u001b[38;5;28mself\u001b[39m\u001b[38;5;241m.\u001b[39msocket, server_hostname\u001b[38;5;241m=\u001b[39m\u001b[38;5;28mself\u001b[39m\u001b[38;5;241m.\u001b[39mjava_address)\n\u001b[0;32m--> 438\u001b[0m \u001b[38;5;28;43mself\u001b[39;49m\u001b[38;5;241;43m.\u001b[39;49m\u001b[43msocket\u001b[49m\u001b[38;5;241;43m.\u001b[39;49m\u001b[43mconnect\u001b[49m\u001b[43m(\u001b[49m\u001b[43m(\u001b[49m\u001b[38;5;28;43mself\u001b[39;49m\u001b[38;5;241;43m.\u001b[39;49m\u001b[43mjava_address\u001b[49m\u001b[43m,\u001b[49m\u001b[43m \u001b[49m\u001b[38;5;28;43mself\u001b[39;49m\u001b[38;5;241;43m.\u001b[39;49m\u001b[43mjava_port\u001b[49m\u001b[43m)\u001b[49m\u001b[43m)\u001b[49m\n\u001b[1;32m    439\u001b[0m \u001b[38;5;28mself\u001b[39m\u001b[38;5;241m.\u001b[39mstream \u001b[38;5;241m=\u001b[39m \u001b[38;5;28mself\u001b[39m\u001b[38;5;241m.\u001b[39msocket\u001b[38;5;241m.\u001b[39mmakefile(\u001b[38;5;124m\"\u001b[39m\u001b[38;5;124mrb\u001b[39m\u001b[38;5;124m\"\u001b[39m)\n\u001b[1;32m    440\u001b[0m \u001b[38;5;28mself\u001b[39m\u001b[38;5;241m.\u001b[39mis_connected \u001b[38;5;241m=\u001b[39m \u001b[38;5;28;01mTrue\u001b[39;00m\n",
      "\u001b[0;31mConnectionRefusedError\u001b[0m: [Errno 111] Connection refused"
     ]
    }
   ],
   "source": [
    "spark.stop()"
   ]
  },
  {
   "cell_type": "code",
   "execution_count": null,
   "metadata": {},
   "outputs": [],
   "source": [
    "embeddings = [get_sentence_embedding(text['abstract']) for text in texts]\n",
    "query_embedding = embeddings[0]\n",
    "similarities = cosine_similarity(query_embedding, np.vstack(embeddings[1:]))\n",
    "print(sorted(similarities[0], reverse=True))\n",
    "# Print query text\n",
    "print (f\"Query text: {texts[0]['title']}\")\n",
    "\n",
    "# Print similarities\n",
    "for i, text in enumerate(texts[1:]):\n",
    "    print(f\"Similarity with '{text['title']}': {similarities[0][i]}\")"
   ]
  }
 ],
 "metadata": {
  "kernelspec": {
   "display_name": "dev",
   "language": "python",
   "name": "python3"
  },
  "language_info": {
   "codemirror_mode": {
    "name": "ipython",
    "version": 3
   },
   "file_extension": ".py",
   "mimetype": "text/x-python",
   "name": "python",
   "nbconvert_exporter": "python",
   "pygments_lexer": "ipython3",
   "version": "3.10.12"
  }
 },
 "nbformat": 4,
 "nbformat_minor": 2
}
